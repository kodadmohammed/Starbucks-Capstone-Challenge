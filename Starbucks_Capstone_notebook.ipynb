{
 "cells": [
  {
   "cell_type": "markdown",
   "metadata": {},
   "source": [
    "# Starbucks Capstone Challenge\n",
    "\n",
    "### Introduction\n",
    "\n",
    "This data set contains simulated data that mimics customer behavior on the Starbucks rewards mobile app. Once every few days, Starbucks sends out an offer to users of the mobile app. An offer can be merely an advertisement for a drink or an actual offer such as a discount or BOGO (buy one get one free). Some users might not receive any offer during certain weeks. \n",
    "\n",
    "Not all users receive the same offer, and that is the challenge to solve with this data set.\n",
    "\n",
    "Your task is to combine transaction, demographic and offer data to determine which demographic groups respond best to which offer type. This data set is a simplified version of the real Starbucks app because the underlying simulator only has one product whereas Starbucks actually sells dozens of products.\n",
    "\n",
    "Every offer has a validity period before the offer expires. As an example, a BOGO offer might be valid for only 5 days. You'll see in the data set that informational offers have a validity period even though these ads are merely providing information about a product; for example, if an informational offer has 7 days of validity, you can assume the customer is feeling the influence of the offer for 7 days after receiving the advertisement.\n",
    "\n",
    "You'll be given transactional data showing user purchases made on the app including the timestamp of purchase and the amount of money spent on a purchase. This transactional data also has a record for each offer that a user receives as well as a record for when a user actually views the offer. There are also records for when a user completes an offer. \n",
    "\n",
    "Keep in mind as well that someone using the app might make a purchase through the app without having received an offer or seen an offer.\n",
    "\n",
    "### Example\n",
    "\n",
    "To give an example, a user could receive a discount offer buy 10 dollars get 2 off on Monday. The offer is valid for 10 days from receipt. If the customer accumulates at least 10 dollars in purchases during the validity period, the customer completes the offer.\n",
    "\n",
    "However, there are a few things to watch out for in this data set. Customers do not opt into the offers that they receive; in other words, a user can receive an offer, never actually view the offer, and still complete the offer. For example, a user might receive the \"buy 10 dollars get 2 dollars off offer\", but the user never opens the offer during the 10 day validity period. The customer spends 15 dollars during those ten days. There will be an offer completion record in the data set; however, the customer was not influenced by the offer because the customer never viewed the offer.\n",
    "\n",
    "### Cleaning\n",
    "\n",
    "This makes data cleaning especially important and tricky.\n",
    "\n",
    "You'll also want to take into account that some demographic groups will make purchases even if they don't receive an offer. From a business perspective, if a customer is going to make a 10 dollar purchase without an offer anyway, you wouldn't want to send a buy 10 dollars get 2 dollars off offer. You'll want to try to assess what a certain demographic group will buy when not receiving any offers.\n",
    "\n",
    "### Final Advice\n",
    "\n",
    "Because this is a capstone project, you are free to analyze the data any way you see fit. For example, you could build a machine learning model that predicts how much someone will spend based on demographics and offer type. Or you could build a model that predicts whether or not someone will respond to an offer. Or, you don't need to build a machine learning model at all. You could develop a set of heuristics that determine what offer you should send to each customer (i.e., 75 percent of women customers who were 35 years old responded to offer A vs 40 percent from the same demographic to offer B, so send offer A)."
   ]
  },
  {
   "cell_type": "markdown",
   "metadata": {},
   "source": [
    "# Data Sets\n",
    "\n",
    "The data is contained in three files:\n",
    "\n",
    "* portfolio.json - containing offer ids and meta data about each offer (duration, type, etc.)\n",
    "* profile.json - demographic data for each customer\n",
    "* transcript.json - records for transactions, offers received, offers viewed, and offers completed\n",
    "\n",
    "Here is the schema and explanation of each variable in the files:\n",
    "\n",
    "**portfolio.json**\n",
    "* id (string) - offer id\n",
    "* offer_type (string) - type of offer ie BOGO, discount, informational\n",
    "* difficulty (int) - minimum required spend to complete an offer\n",
    "* reward (int) - reward given for completing an offer\n",
    "* duration (int) - time for offer to be open, in days\n",
    "* channels (list of strings)\n",
    "\n",
    "**profile.json**\n",
    "* age (int) - age of the customer \n",
    "* became_member_on (int) - date when customer created an app account\n",
    "* gender (str) - gender of the customer (note some entries contain 'O' for other rather than M or F)\n",
    "* id (str) - customer id\n",
    "* income (float) - customer's income\n",
    "\n",
    "**transcript.json**\n",
    "* event (str) - record description (ie transaction, offer received, offer viewed, etc.)\n",
    "* person (str) - customer id\n",
    "* time (int) - time in hours since start of test. The data begins at time t=0\n",
    "* value - (dict of strings) - either an offer id or transaction amount depending on the record\n"
   ]
  },
  {
   "cell_type": "code",
   "execution_count": 1,
   "metadata": {},
   "outputs": [],
   "source": [
    "import pandas as pd\n",
    "import numpy as np\n",
    "import math\n",
    "import json\n",
    "import matplotlib.pyplot as plt\n",
    "from datetime import datetime\n",
    "import seaborn as sns\n",
    "\n",
    "from sklearn.model_selection import train_test_split, StratifiedKFold\n",
    "from sklearn.preprocessing import StandardScaler, MinMaxScaler\n",
    "from sklearn.model_selection import GridSearchCV\n",
    "from sklearn.linear_model import LogisticRegression\n",
    "from sklearn.ensemble import RandomForestClassifier, AdaBoostClassifier, GradientBoostingClassifier\n",
    "from sklearn.utils.multiclass import unique_labels\n",
    "from sklearn.metrics import f1_score, precision_score, recall_score, confusion_matrix\n",
    "import time\n",
    "\n",
    "\n",
    "% matplotlib inline"
   ]
  },
  {
   "cell_type": "code",
   "execution_count": 2,
   "metadata": {},
   "outputs": [],
   "source": [
    "# read in the json files\n",
    "portfolio = pd.read_json('data/portfolio.json', orient='records', lines=True)\n",
    "profile = pd.read_json('data/profile.json', orient='records', lines=True)\n",
    "transcript = pd.read_json('data/transcript.json', orient='records', lines=True)"
   ]
  },
  {
   "cell_type": "markdown",
   "metadata": {},
   "source": [
    "## 1. Data Exploration / Prepocessing\n",
    "\n",
    "In order to understand the datasets and uncover initial patterns, characteristics, and points of interest, first we need to explore the datasets which includes checking the missing value, visualizing the data distribution, etc. In that way, we could see what the data can tell us and how to select the important features to support the model implementation.  \n",
    "And also we will do some preprocessing, that step in which the data gets transformed, or Encoded, to bring it to such a state that now the machine can easily parse it."
   ]
  },
  {
   "cell_type": "markdown",
   "metadata": {},
   "source": [
    "### 1.1 portfolio data"
   ]
  },
  {
   "cell_type": "code",
   "execution_count": 3,
   "metadata": {},
   "outputs": [
    {
     "data": {
      "text/html": [
       "<div>\n",
       "<style scoped>\n",
       "    .dataframe tbody tr th:only-of-type {\n",
       "        vertical-align: middle;\n",
       "    }\n",
       "\n",
       "    .dataframe tbody tr th {\n",
       "        vertical-align: top;\n",
       "    }\n",
       "\n",
       "    .dataframe thead th {\n",
       "        text-align: right;\n",
       "    }\n",
       "</style>\n",
       "<table border=\"1\" class=\"dataframe\">\n",
       "  <thead>\n",
       "    <tr style=\"text-align: right;\">\n",
       "      <th></th>\n",
       "      <th>channels</th>\n",
       "      <th>difficulty</th>\n",
       "      <th>duration</th>\n",
       "      <th>id</th>\n",
       "      <th>offer_type</th>\n",
       "      <th>reward</th>\n",
       "    </tr>\n",
       "  </thead>\n",
       "  <tbody>\n",
       "    <tr>\n",
       "      <th>0</th>\n",
       "      <td>[email, mobile, social]</td>\n",
       "      <td>10</td>\n",
       "      <td>7</td>\n",
       "      <td>ae264e3637204a6fb9bb56bc8210ddfd</td>\n",
       "      <td>bogo</td>\n",
       "      <td>10</td>\n",
       "    </tr>\n",
       "    <tr>\n",
       "      <th>1</th>\n",
       "      <td>[web, email, mobile, social]</td>\n",
       "      <td>10</td>\n",
       "      <td>5</td>\n",
       "      <td>4d5c57ea9a6940dd891ad53e9dbe8da0</td>\n",
       "      <td>bogo</td>\n",
       "      <td>10</td>\n",
       "    </tr>\n",
       "    <tr>\n",
       "      <th>2</th>\n",
       "      <td>[web, email, mobile]</td>\n",
       "      <td>0</td>\n",
       "      <td>4</td>\n",
       "      <td>3f207df678b143eea3cee63160fa8bed</td>\n",
       "      <td>informational</td>\n",
       "      <td>0</td>\n",
       "    </tr>\n",
       "    <tr>\n",
       "      <th>3</th>\n",
       "      <td>[web, email, mobile]</td>\n",
       "      <td>5</td>\n",
       "      <td>7</td>\n",
       "      <td>9b98b8c7a33c4b65b9aebfe6a799e6d9</td>\n",
       "      <td>bogo</td>\n",
       "      <td>5</td>\n",
       "    </tr>\n",
       "    <tr>\n",
       "      <th>4</th>\n",
       "      <td>[web, email]</td>\n",
       "      <td>20</td>\n",
       "      <td>10</td>\n",
       "      <td>0b1e1539f2cc45b7b9fa7c272da2e1d7</td>\n",
       "      <td>discount</td>\n",
       "      <td>5</td>\n",
       "    </tr>\n",
       "  </tbody>\n",
       "</table>\n",
       "</div>"
      ],
      "text/plain": [
       "                       channels  difficulty  duration  \\\n",
       "0       [email, mobile, social]          10         7   \n",
       "1  [web, email, mobile, social]          10         5   \n",
       "2          [web, email, mobile]           0         4   \n",
       "3          [web, email, mobile]           5         7   \n",
       "4                  [web, email]          20        10   \n",
       "\n",
       "                                 id     offer_type  reward  \n",
       "0  ae264e3637204a6fb9bb56bc8210ddfd           bogo      10  \n",
       "1  4d5c57ea9a6940dd891ad53e9dbe8da0           bogo      10  \n",
       "2  3f207df678b143eea3cee63160fa8bed  informational       0  \n",
       "3  9b98b8c7a33c4b65b9aebfe6a799e6d9           bogo       5  \n",
       "4  0b1e1539f2cc45b7b9fa7c272da2e1d7       discount       5  "
      ]
     },
     "execution_count": 3,
     "metadata": {},
     "output_type": "execute_result"
    }
   ],
   "source": [
    "# Show portfolio dataset\n",
    "portfolio.head()"
   ]
  },
  {
   "cell_type": "code",
   "execution_count": 4,
   "metadata": {},
   "outputs": [
    {
     "data": {
      "text/plain": [
       "(10, 6)"
      ]
     },
     "execution_count": 4,
     "metadata": {},
     "output_type": "execute_result"
    }
   ],
   "source": [
    "# Shape of dataset\n",
    "portfolio.shape"
   ]
  },
  {
   "cell_type": "code",
   "execution_count": 5,
   "metadata": {},
   "outputs": [
    {
     "data": {
      "text/plain": [
       "channels      0\n",
       "difficulty    0\n",
       "duration      0\n",
       "id            0\n",
       "offer_type    0\n",
       "reward        0\n",
       "dtype: int64"
      ]
     },
     "execution_count": 5,
     "metadata": {},
     "output_type": "execute_result"
    }
   ],
   "source": [
    "# Calculate null values in portfolio dataframe\n",
    "portfolio.isnull().sum()"
   ]
  },
  {
   "cell_type": "markdown",
   "metadata": {},
   "source": [
    "As shown above, there are no null values in portfolio dataframe."
   ]
  },
  {
   "cell_type": "code",
   "execution_count": 6,
   "metadata": {},
   "outputs": [
    {
     "data": {
      "text/plain": [
       "10"
      ]
     },
     "execution_count": 6,
     "metadata": {},
     "output_type": "execute_result"
    }
   ],
   "source": [
    "# the number of unique offers in dataset\n",
    "portfolio['id'].nunique()"
   ]
  },
  {
   "cell_type": "markdown",
   "metadata": {},
   "source": [
    "we notice that the number of unique offers is 10, the same as the number of rows, which mean there is no duplicates ids"
   ]
  },
  {
   "cell_type": "code",
   "execution_count": 7,
   "metadata": {},
   "outputs": [
    {
     "data": {
      "text/plain": [
       "array(['bogo', 'informational', 'discount'], dtype=object)"
      ]
     },
     "execution_count": 7,
     "metadata": {},
     "output_type": "execute_result"
    }
   ],
   "source": [
    "# the number of unique offer types in dataset\n",
    "portfolio['offer_type'].unique()"
   ]
  },
  {
   "cell_type": "code",
   "execution_count": 8,
   "metadata": {},
   "outputs": [
    {
     "data": {
      "text/plain": [
       "offer_type\n",
       "bogo             4\n",
       "discount         4\n",
       "informational    2\n",
       "Name: id, dtype: int64"
      ]
     },
     "execution_count": 8,
     "metadata": {},
     "output_type": "execute_result"
    }
   ],
   "source": [
    "# count the number of offer by offer type\n",
    "portfolio.groupby('offer_type')['id'].count()"
   ]
  },
  {
   "cell_type": "code",
   "execution_count": 9,
   "metadata": {},
   "outputs": [],
   "source": [
    "def clean_portfolio(portfolio):\n",
    "    \n",
    "    '''\n",
    "    data cleaning the portfolio dataframe\n",
    "    \n",
    "    INPUT:\n",
    "    portfolio - the portfolio dataframe to be cleaned\n",
    "    \n",
    "    OUTPUT:\n",
    "    portfolio - the cleaned portfolio dataframe\n",
    "    \n",
    "    '''\n",
    "    \n",
    "    # Change name of feature id to offer_id\n",
    "    portfolio.rename(columns={'id': 'offer_id'}, inplace=True)\n",
    "\n",
    "    # change the duration from day to hour\n",
    "    clean_portfolio = portfolio.copy()\n",
    "    clean_portfolio['duration'] = clean_portfolio['duration'] * 24\n",
    "    \n",
    "    # apply one hot encoding to channels culumn\n",
    "    \n",
    "    channels=clean_portfolio['channels'].map(lambda x: ','.join(map(str, x))).str.get_dummies(sep=',')\n",
    "    \n",
    "    \n",
    "    # apply one hot encoding to offer_type column\n",
    "    offer_type = pd.get_dummies(clean_portfolio['offer_type'])\n",
    "    \n",
    "    # drop the culumns channels and offer_type \n",
    "    clean_portfolio.drop(['channels', 'offer_type'], axis=1, inplace=True)\n",
    "    \n",
    "    # combine the dataframe clean_portfolio and offer_type to form a cleaned dataframe\n",
    "    clean_portfolio = pd.concat([clean_portfolio, channels, offer_type], axis=1, sort=False)\n",
    "    \n",
    "    return clean_portfolio\n"
   ]
  },
  {
   "cell_type": "code",
   "execution_count": 10,
   "metadata": {},
   "outputs": [],
   "source": [
    "clean_portfolio=clean_portfolio(portfolio)"
   ]
  },
  {
   "cell_type": "code",
   "execution_count": 11,
   "metadata": {},
   "outputs": [
    {
     "data": {
      "text/html": [
       "<div>\n",
       "<style scoped>\n",
       "    .dataframe tbody tr th:only-of-type {\n",
       "        vertical-align: middle;\n",
       "    }\n",
       "\n",
       "    .dataframe tbody tr th {\n",
       "        vertical-align: top;\n",
       "    }\n",
       "\n",
       "    .dataframe thead th {\n",
       "        text-align: right;\n",
       "    }\n",
       "</style>\n",
       "<table border=\"1\" class=\"dataframe\">\n",
       "  <thead>\n",
       "    <tr style=\"text-align: right;\">\n",
       "      <th></th>\n",
       "      <th>difficulty</th>\n",
       "      <th>duration</th>\n",
       "      <th>offer_id</th>\n",
       "      <th>reward</th>\n",
       "      <th>email</th>\n",
       "      <th>mobile</th>\n",
       "      <th>social</th>\n",
       "      <th>web</th>\n",
       "      <th>bogo</th>\n",
       "      <th>discount</th>\n",
       "      <th>informational</th>\n",
       "    </tr>\n",
       "  </thead>\n",
       "  <tbody>\n",
       "    <tr>\n",
       "      <th>0</th>\n",
       "      <td>10</td>\n",
       "      <td>168</td>\n",
       "      <td>ae264e3637204a6fb9bb56bc8210ddfd</td>\n",
       "      <td>10</td>\n",
       "      <td>1</td>\n",
       "      <td>1</td>\n",
       "      <td>1</td>\n",
       "      <td>0</td>\n",
       "      <td>1</td>\n",
       "      <td>0</td>\n",
       "      <td>0</td>\n",
       "    </tr>\n",
       "    <tr>\n",
       "      <th>1</th>\n",
       "      <td>10</td>\n",
       "      <td>120</td>\n",
       "      <td>4d5c57ea9a6940dd891ad53e9dbe8da0</td>\n",
       "      <td>10</td>\n",
       "      <td>1</td>\n",
       "      <td>1</td>\n",
       "      <td>1</td>\n",
       "      <td>1</td>\n",
       "      <td>1</td>\n",
       "      <td>0</td>\n",
       "      <td>0</td>\n",
       "    </tr>\n",
       "    <tr>\n",
       "      <th>2</th>\n",
       "      <td>0</td>\n",
       "      <td>96</td>\n",
       "      <td>3f207df678b143eea3cee63160fa8bed</td>\n",
       "      <td>0</td>\n",
       "      <td>1</td>\n",
       "      <td>1</td>\n",
       "      <td>0</td>\n",
       "      <td>1</td>\n",
       "      <td>0</td>\n",
       "      <td>0</td>\n",
       "      <td>1</td>\n",
       "    </tr>\n",
       "    <tr>\n",
       "      <th>3</th>\n",
       "      <td>5</td>\n",
       "      <td>168</td>\n",
       "      <td>9b98b8c7a33c4b65b9aebfe6a799e6d9</td>\n",
       "      <td>5</td>\n",
       "      <td>1</td>\n",
       "      <td>1</td>\n",
       "      <td>0</td>\n",
       "      <td>1</td>\n",
       "      <td>1</td>\n",
       "      <td>0</td>\n",
       "      <td>0</td>\n",
       "    </tr>\n",
       "    <tr>\n",
       "      <th>4</th>\n",
       "      <td>20</td>\n",
       "      <td>240</td>\n",
       "      <td>0b1e1539f2cc45b7b9fa7c272da2e1d7</td>\n",
       "      <td>5</td>\n",
       "      <td>1</td>\n",
       "      <td>0</td>\n",
       "      <td>0</td>\n",
       "      <td>1</td>\n",
       "      <td>0</td>\n",
       "      <td>1</td>\n",
       "      <td>0</td>\n",
       "    </tr>\n",
       "  </tbody>\n",
       "</table>\n",
       "</div>"
      ],
      "text/plain": [
       "   difficulty  duration                          offer_id  reward  email  \\\n",
       "0          10       168  ae264e3637204a6fb9bb56bc8210ddfd      10      1   \n",
       "1          10       120  4d5c57ea9a6940dd891ad53e9dbe8da0      10      1   \n",
       "2           0        96  3f207df678b143eea3cee63160fa8bed       0      1   \n",
       "3           5       168  9b98b8c7a33c4b65b9aebfe6a799e6d9       5      1   \n",
       "4          20       240  0b1e1539f2cc45b7b9fa7c272da2e1d7       5      1   \n",
       "\n",
       "   mobile  social  web  bogo  discount  informational  \n",
       "0       1       1    0     1         0              0  \n",
       "1       1       1    1     1         0              0  \n",
       "2       1       0    1     0         0              1  \n",
       "3       1       0    1     1         0              0  \n",
       "4       0       0    1     0         1              0  "
      ]
     },
     "execution_count": 11,
     "metadata": {},
     "output_type": "execute_result"
    }
   ],
   "source": [
    "clean_portfolio.head()"
   ]
  },
  {
   "cell_type": "markdown",
   "metadata": {},
   "source": [
    "### 1.2 profile data"
   ]
  },
  {
   "cell_type": "code",
   "execution_count": 12,
   "metadata": {},
   "outputs": [
    {
     "data": {
      "text/html": [
       "<div>\n",
       "<style scoped>\n",
       "    .dataframe tbody tr th:only-of-type {\n",
       "        vertical-align: middle;\n",
       "    }\n",
       "\n",
       "    .dataframe tbody tr th {\n",
       "        vertical-align: top;\n",
       "    }\n",
       "\n",
       "    .dataframe thead th {\n",
       "        text-align: right;\n",
       "    }\n",
       "</style>\n",
       "<table border=\"1\" class=\"dataframe\">\n",
       "  <thead>\n",
       "    <tr style=\"text-align: right;\">\n",
       "      <th></th>\n",
       "      <th>age</th>\n",
       "      <th>became_member_on</th>\n",
       "      <th>gender</th>\n",
       "      <th>id</th>\n",
       "      <th>income</th>\n",
       "    </tr>\n",
       "  </thead>\n",
       "  <tbody>\n",
       "    <tr>\n",
       "      <th>0</th>\n",
       "      <td>118</td>\n",
       "      <td>20170212</td>\n",
       "      <td>None</td>\n",
       "      <td>68be06ca386d4c31939f3a4f0e3dd783</td>\n",
       "      <td>NaN</td>\n",
       "    </tr>\n",
       "    <tr>\n",
       "      <th>1</th>\n",
       "      <td>55</td>\n",
       "      <td>20170715</td>\n",
       "      <td>F</td>\n",
       "      <td>0610b486422d4921ae7d2bf64640c50b</td>\n",
       "      <td>112000.0</td>\n",
       "    </tr>\n",
       "    <tr>\n",
       "      <th>2</th>\n",
       "      <td>118</td>\n",
       "      <td>20180712</td>\n",
       "      <td>None</td>\n",
       "      <td>38fe809add3b4fcf9315a9694bb96ff5</td>\n",
       "      <td>NaN</td>\n",
       "    </tr>\n",
       "    <tr>\n",
       "      <th>3</th>\n",
       "      <td>75</td>\n",
       "      <td>20170509</td>\n",
       "      <td>F</td>\n",
       "      <td>78afa995795e4d85b5d9ceeca43f5fef</td>\n",
       "      <td>100000.0</td>\n",
       "    </tr>\n",
       "    <tr>\n",
       "      <th>4</th>\n",
       "      <td>118</td>\n",
       "      <td>20170804</td>\n",
       "      <td>None</td>\n",
       "      <td>a03223e636434f42ac4c3df47e8bac43</td>\n",
       "      <td>NaN</td>\n",
       "    </tr>\n",
       "  </tbody>\n",
       "</table>\n",
       "</div>"
      ],
      "text/plain": [
       "   age  became_member_on gender                                id    income\n",
       "0  118          20170212   None  68be06ca386d4c31939f3a4f0e3dd783       NaN\n",
       "1   55          20170715      F  0610b486422d4921ae7d2bf64640c50b  112000.0\n",
       "2  118          20180712   None  38fe809add3b4fcf9315a9694bb96ff5       NaN\n",
       "3   75          20170509      F  78afa995795e4d85b5d9ceeca43f5fef  100000.0\n",
       "4  118          20170804   None  a03223e636434f42ac4c3df47e8bac43       NaN"
      ]
     },
     "execution_count": 12,
     "metadata": {},
     "output_type": "execute_result"
    }
   ],
   "source": [
    "# Show profile dataset\n",
    "profile.head()"
   ]
  },
  {
   "cell_type": "code",
   "execution_count": 13,
   "metadata": {},
   "outputs": [
    {
     "data": {
      "text/plain": [
       "(17000, 5)"
      ]
     },
     "execution_count": 13,
     "metadata": {},
     "output_type": "execute_result"
    }
   ],
   "source": [
    "# Shape of dataset\n",
    "profile.shape"
   ]
  },
  {
   "cell_type": "code",
   "execution_count": 14,
   "metadata": {},
   "outputs": [
    {
     "data": {
      "text/plain": [
       "age                    0\n",
       "became_member_on       0\n",
       "gender              2175\n",
       "id                     0\n",
       "income              2175\n",
       "dtype: int64"
      ]
     },
     "execution_count": 14,
     "metadata": {},
     "output_type": "execute_result"
    }
   ],
   "source": [
    "# Calculate null values in profile dataframe\n",
    "profile.isnull().sum()"
   ]
  },
  {
   "cell_type": "markdown",
   "metadata": {},
   "source": [
    "From above, we can observe that gender and income features each have 2175 null values"
   ]
  },
  {
   "cell_type": "code",
   "execution_count": 15,
   "metadata": {},
   "outputs": [
    {
     "data": {
      "text/plain": [
       "17000"
      ]
     },
     "execution_count": 15,
     "metadata": {},
     "output_type": "execute_result"
    }
   ],
   "source": [
    "# the number of unique profiles in dataset\n",
    "profile.id.nunique()"
   ]
  },
  {
   "cell_type": "code",
   "execution_count": 16,
   "metadata": {},
   "outputs": [],
   "source": [
    "import matplotlib.pyplot as plt"
   ]
  },
  {
   "cell_type": "code",
   "execution_count": 17,
   "metadata": {},
   "outputs": [
    {
     "data": {
      "text/plain": [
       "(array([0, 1, 2]), <a list of 3 Text xticklabel objects>)"
      ]
     },
     "execution_count": 17,
     "metadata": {},
     "output_type": "execute_result"
    },
    {
     "data": {
      "image/png": "[encoded data removed]",
      "text/plain": [
       "<matplotlib.figure.Figure at 0x7fab709b3be0>"
      ]
     },
     "metadata": {
      "needs_background": "light"
     },
     "output_type": "display_data"
    }
   ],
   "source": [
    "(profile['gender'].value_counts()).plot(kind='bar')\n",
    "plt.xticks(rotation=0)"
   ]
  },
  {
   "cell_type": "markdown",
   "metadata": {},
   "source": [
    "We can see that there are more males members than female members."
   ]
  },
  {
   "cell_type": "code",
   "execution_count": 18,
   "metadata": {},
   "outputs": [
    {
     "data": {
      "text/plain": [
       "118    2175\n",
       "101       5\n",
       "100      12\n",
       "99        5\n",
       "98        5\n",
       "97       13\n",
       "96        8\n",
       "95       22\n",
       "94       33\n",
       "93       29\n",
       "92       40\n",
       "91       47\n",
       "90       52\n",
       "89       53\n",
       "88       64\n",
       "87       66\n",
       "86       54\n",
       "85       70\n",
       "84       83\n",
       "83      102\n",
       "82      105\n",
       "81      118\n",
       "80      116\n",
       "79      117\n",
       "78      135\n",
       "77      141\n",
       "76      155\n",
       "75      159\n",
       "74      193\n",
       "73      209\n",
       "       ... \n",
       "47      232\n",
       "46      212\n",
       "45      231\n",
       "44      192\n",
       "43      215\n",
       "42      227\n",
       "41      189\n",
       "40      202\n",
       "39      182\n",
       "38      172\n",
       "37      197\n",
       "36      175\n",
       "35      118\n",
       "34      147\n",
       "33      152\n",
       "32      139\n",
       "31      113\n",
       "30      131\n",
       "29      129\n",
       "28      137\n",
       "27      139\n",
       "26      157\n",
       "25      136\n",
       "24      139\n",
       "23      126\n",
       "22      131\n",
       "21      140\n",
       "20      135\n",
       "19      135\n",
       "18       70\n",
       "Name: age, Length: 85, dtype: int64"
      ]
     },
     "execution_count": 18,
     "metadata": {},
     "output_type": "execute_result"
    }
   ],
   "source": [
    "# Calculate count of unique age\n",
    "profile['age'].value_counts().sort_index(ascending=False)"
   ]
  },
  {
   "cell_type": "markdown",
   "metadata": {},
   "source": [
    "From above, we can observe that there are 2175 observations with age 118 which is also the maximum age. The number of observations for this age is way too much than the number of observations for second highest age 101 which is only 5 which indicates that there are more people with age 118 than with age 101 which seems unrealistic. Also, the number of observations with age 118 i.e. 2175 is equal to the number of missing values in features gender and income. Let us analyse the profile data for age 118 more."
   ]
  },
  {
   "cell_type": "code",
   "execution_count": 19,
   "metadata": {},
   "outputs": [
    {
     "data": {
      "text/html": [
       "<div>\n",
       "<style scoped>\n",
       "    .dataframe tbody tr th:only-of-type {\n",
       "        vertical-align: middle;\n",
       "    }\n",
       "\n",
       "    .dataframe tbody tr th {\n",
       "        vertical-align: top;\n",
       "    }\n",
       "\n",
       "    .dataframe thead th {\n",
       "        text-align: right;\n",
       "    }\n",
       "</style>\n",
       "<table border=\"1\" class=\"dataframe\">\n",
       "  <thead>\n",
       "    <tr style=\"text-align: right;\">\n",
       "      <th></th>\n",
       "      <th>age</th>\n",
       "      <th>became_member_on</th>\n",
       "      <th>gender</th>\n",
       "      <th>id</th>\n",
       "      <th>income</th>\n",
       "    </tr>\n",
       "  </thead>\n",
       "  <tbody>\n",
       "    <tr>\n",
       "      <th>0</th>\n",
       "      <td>118</td>\n",
       "      <td>20170212</td>\n",
       "      <td>None</td>\n",
       "      <td>68be06ca386d4c31939f3a4f0e3dd783</td>\n",
       "      <td>NaN</td>\n",
       "    </tr>\n",
       "    <tr>\n",
       "      <th>2</th>\n",
       "      <td>118</td>\n",
       "      <td>20180712</td>\n",
       "      <td>None</td>\n",
       "      <td>38fe809add3b4fcf9315a9694bb96ff5</td>\n",
       "      <td>NaN</td>\n",
       "    </tr>\n",
       "    <tr>\n",
       "      <th>4</th>\n",
       "      <td>118</td>\n",
       "      <td>20170804</td>\n",
       "      <td>None</td>\n",
       "      <td>a03223e636434f42ac4c3df47e8bac43</td>\n",
       "      <td>NaN</td>\n",
       "    </tr>\n",
       "    <tr>\n",
       "      <th>6</th>\n",
       "      <td>118</td>\n",
       "      <td>20170925</td>\n",
       "      <td>None</td>\n",
       "      <td>8ec6ce2a7e7949b1bf142def7d0e0586</td>\n",
       "      <td>NaN</td>\n",
       "    </tr>\n",
       "    <tr>\n",
       "      <th>7</th>\n",
       "      <td>118</td>\n",
       "      <td>20171002</td>\n",
       "      <td>None</td>\n",
       "      <td>68617ca6246f4fbc85e91a2a49552598</td>\n",
       "      <td>NaN</td>\n",
       "    </tr>\n",
       "    <tr>\n",
       "      <th>9</th>\n",
       "      <td>118</td>\n",
       "      <td>20161122</td>\n",
       "      <td>None</td>\n",
       "      <td>8974fc5686fe429db53ddde067b88302</td>\n",
       "      <td>NaN</td>\n",
       "    </tr>\n",
       "    <tr>\n",
       "      <th>10</th>\n",
       "      <td>118</td>\n",
       "      <td>20170824</td>\n",
       "      <td>None</td>\n",
       "      <td>c4863c7985cf408faee930f111475da3</td>\n",
       "      <td>NaN</td>\n",
       "    </tr>\n",
       "    <tr>\n",
       "      <th>11</th>\n",
       "      <td>118</td>\n",
       "      <td>20150919</td>\n",
       "      <td>None</td>\n",
       "      <td>148adfcaa27d485b82f323aaaad036bd</td>\n",
       "      <td>NaN</td>\n",
       "    </tr>\n",
       "    <tr>\n",
       "      <th>17</th>\n",
       "      <td>118</td>\n",
       "      <td>20170801</td>\n",
       "      <td>None</td>\n",
       "      <td>744d603ef08c4f33af5a61c8c7628d1c</td>\n",
       "      <td>NaN</td>\n",
       "    </tr>\n",
       "    <tr>\n",
       "      <th>23</th>\n",
       "      <td>118</td>\n",
       "      <td>20170907</td>\n",
       "      <td>None</td>\n",
       "      <td>2b826eba31074a059d63b0ae8f50b7d5</td>\n",
       "      <td>NaN</td>\n",
       "    </tr>\n",
       "  </tbody>\n",
       "</table>\n",
       "</div>"
      ],
      "text/plain": [
       "    age  became_member_on gender                                id  income\n",
       "0   118          20170212   None  68be06ca386d4c31939f3a4f0e3dd783     NaN\n",
       "2   118          20180712   None  38fe809add3b4fcf9315a9694bb96ff5     NaN\n",
       "4   118          20170804   None  a03223e636434f42ac4c3df47e8bac43     NaN\n",
       "6   118          20170925   None  8ec6ce2a7e7949b1bf142def7d0e0586     NaN\n",
       "7   118          20171002   None  68617ca6246f4fbc85e91a2a49552598     NaN\n",
       "9   118          20161122   None  8974fc5686fe429db53ddde067b88302     NaN\n",
       "10  118          20170824   None  c4863c7985cf408faee930f111475da3     NaN\n",
       "11  118          20150919   None  148adfcaa27d485b82f323aaaad036bd     NaN\n",
       "17  118          20170801   None  744d603ef08c4f33af5a61c8c7628d1c     NaN\n",
       "23  118          20170907   None  2b826eba31074a059d63b0ae8f50b7d5     NaN"
      ]
     },
     "execution_count": 19,
     "metadata": {},
     "output_type": "execute_result"
    }
   ],
   "source": [
    "# View records of profile dataframe for age 118\n",
    "profile_118 = profile[profile['age'] == 118]\n",
    "profile_118.head(10)"
   ]
  },
  {
   "cell_type": "code",
   "execution_count": 20,
   "metadata": {},
   "outputs": [
    {
     "data": {
      "text/plain": [
       "2175"
      ]
     },
     "execution_count": 20,
     "metadata": {},
     "output_type": "execute_result"
    }
   ],
   "source": [
    "# Show number of profiles with the age 118\n",
    "profile_118.shape[0]"
   ]
  },
  {
   "cell_type": "code",
   "execution_count": 21,
   "metadata": {},
   "outputs": [
    {
     "data": {
      "text/plain": [
       "2175"
      ]
     },
     "execution_count": 21,
     "metadata": {},
     "output_type": "execute_result"
    }
   ],
   "source": [
    "# Show number of null values of the column gender when age=118\n",
    "profile_118['gender'].isnull().sum()"
   ]
  },
  {
   "cell_type": "code",
   "execution_count": 22,
   "metadata": {},
   "outputs": [
    {
     "data": {
      "text/plain": [
       "2175"
      ]
     },
     "execution_count": 22,
     "metadata": {},
     "output_type": "execute_result"
    }
   ],
   "source": [
    "# Show number of null values of the column income when age=118\n",
    "profile_118['income'].isnull().sum()"
   ]
  },
  {
   "cell_type": "markdown",
   "metadata": {},
   "source": [
    "By viewing those results above, we can observe that all profiles with age 118, have missing values in gender column and income column too."
   ]
  },
  {
   "cell_type": "code",
   "execution_count": 23,
   "metadata": {},
   "outputs": [
    {
     "data": {
      "text/plain": [
       "Text(0.5,1,'Distribution of age counts')"
      ]
     },
     "execution_count": 23,
     "metadata": {},
     "output_type": "execute_result"
    },
    {
     "data": {
      "image/png": "[encoded data removed]",
      "text/plain": [
       "<matplotlib.figure.Figure at 0x7fab70970eb8>"
      ]
     },
     "metadata": {
      "needs_background": "light"
     },
     "output_type": "display_data"
    }
   ],
   "source": [
    "# Plot distribution of ages in profile dataframe \n",
    "profile['age'].value_counts().sort_index(ascending=False).plot.bar(figsize=(14,4), fontsize=11);\n",
    "plt.xlabel('Age', fontsize=12)\n",
    "plt.ylabel('Count', fontsize=12)\n",
    "plt.title('Distribution of age counts', fontsize=15)\n"
   ]
  },
  {
   "cell_type": "markdown",
   "metadata": {},
   "source": [
    "From above, we can cleary see that customers with age 118 stand out in distribution plot, which seems outlier. and I checked that for all profiles that have age equal to 118, they do not have any gender and income, also the number of customers with age 118 which is 2175 is unrealistic, For those reasons I will drop all columns that have age 118."
   ]
  },
  {
   "cell_type": "code",
   "execution_count": 24,
   "metadata": {},
   "outputs": [],
   "source": [
    "def clean_profile(profile):\n",
    "    \n",
    "    \"\"\" Transforms a DataFrame that contains demographic data for each \n",
    "    customer\n",
    "    \n",
    "    INPUT:\n",
    "        (Optional) data_dir: String that stores the full path to the\n",
    "                             data directory\n",
    "    \n",
    "    OUTPUT:\n",
    "        profile: DataFrame that contains demographic data for each \n",
    "                 customer\n",
    "    \"\"\"\n",
    "    # copy dataframe from profile to clean_profile\n",
    "    clean_profile = profile.copy()\n",
    "    \n",
    "    # Change name of culumn id to customer_id in profile dataframe\n",
    "    clean_profile.rename(columns={'id': 'customer_id'}, inplace=True)\n",
    "    \n",
    "    # Remove customers with age 118\n",
    "    profile_118 = clean_profile[clean_profile['age'] == 118]\n",
    "    clean_profile.drop(index=profile_118.index, inplace=True) \n",
    "    \n",
    "    # OneHotEncoding feature 'gender'\n",
    "    gender_dummies = pd.get_dummies(clean_profile['gender'], prefix='', prefix_sep='')\n",
    "    \n",
    "    \n",
    "    # Convert fetaure 'age' into 'age_by_decade' which would be helpful in determining if a particular age \n",
    "    #is influenced more by an offer\n",
    "    clean_profile['age_by_decade'] = pd.cut(clean_profile['age'], bins=range(10,120,10),right=False, labels=['10s','20s', '30s', '40s', '50s','60s', '70s', '80s', '90s', '100s'])\n",
    "         \n",
    "    # OneHotEncoding feature 'age_by_decade'\n",
    "    age_dummies = pd.get_dummies(clean_profile['age_by_decade'], prefix='age', prefix_sep='_')\n",
    "    \n",
    "    # Drop feature 'age' \n",
    "    clean_profile.drop(columns=['age'], axis=1, inplace=True)\n",
    "    \n",
    "    \n",
    "    # Convert type of feature 'became_member_on' to type Datetime\n",
    "    type(pd.to_datetime(clean_profile['became_member_on'],format='%Y%m%d').dt) \n",
    "    \n",
    "\n",
    "    # Create feature 'became_member_year' in which customer became member from feature 'became_member_on'\n",
    "    clean_profile['became_member_year'] = pd.to_datetime(clean_profile['became_member_on'],format='%Y%m%d').dt.year\n",
    "\n",
    "    # Create feature 'became_member_month' in which customer became member from feature 'became_member_on'\n",
    "    clean_profile['became_member_month'] = pd.to_datetime(clean_profile['became_member_on'],format='%Y%m%d').dt.month\n",
    "    \n",
    "    # Create feature 'became_member_day' in which customer became member from feature 'became_member_on'\n",
    "    clean_profile['became_member_day'] = pd.to_datetime(clean_profile['became_member_on'],format='%Y%m%d').dt.day\n",
    "    \n",
    "    # Create feature 'became_member_tenure' of customers from feature 'became_member_on'\n",
    "    clean_profile['became_member_tenure'] = (datetime.today().date() - pd.to_datetime(clean_profile['became_member_on'],format='%Y%m%d').dt.date).dt.days\n",
    "\n",
    "    # Drop feature 'became_member_on'\n",
    "    clean_profile.drop(columns=['became_member_on'], axis=1, inplace=True)\n",
    "    \n",
    "    # OneHotEncoding feature 'became_member_year'\n",
    "    year_dummies = pd.get_dummies(clean_profile['became_member_year'], prefix='', prefix_sep='')\n",
    "\n",
    "    # OneHotEncoding feature 'became_member_month'\n",
    "    month_dummies = pd.get_dummies(clean_profile['became_member_month'], prefix='month', prefix_sep='_')\n",
    "    \n",
    "    # Convert feature 'income' into 'income_by_range' which would be helpful in determining\n",
    "    # if a particular income range is influenced more by an offer\n",
    "    clean_profile['income_by_range'] = pd.cut(clean_profile['income'], bins=range(30000,140000,10000), right=False,\\\n",
    "                                    labels=['30ths','40ths', '50ths', '60ths', '70ths','80ths', '90ths',\\\n",
    "                                            '100ths', '110ths', '120ths'])\n",
    "    \n",
    "    # OneHotEncoding feature 'income_by_range'\n",
    "    income_dummies = pd.get_dummies(clean_profile['income_by_range'], prefix='income', prefix_sep='_')\n",
    "    \n",
    "    # combine the dataframe clean_profile with the different dummies variables\n",
    "    clean_profile = pd.concat([clean_profile, gender_dummies, age_dummies,year_dummies,month_dummies,income_dummies], axis=1, sort=False)\n",
    "    \n",
    "\n",
    "    # Return a DataFrame with clean customer profile data\n",
    "    return clean_profile"
   ]
  },
  {
   "cell_type": "code",
   "execution_count": 25,
   "metadata": {},
   "outputs": [],
   "source": [
    "# apply the function clean_profile on our dataset 'profile' to  get a cleaned profile\n",
    "clean_profile=clean_profile(profile)"
   ]
  },
  {
   "cell_type": "code",
   "execution_count": 26,
   "metadata": {},
   "outputs": [
    {
     "data": {
      "text/html": [
       "<div>\n",
       "<style scoped>\n",
       "    .dataframe tbody tr th:only-of-type {\n",
       "        vertical-align: middle;\n",
       "    }\n",
       "\n",
       "    .dataframe tbody tr th {\n",
       "        vertical-align: top;\n",
       "    }\n",
       "\n",
       "    .dataframe thead th {\n",
       "        text-align: right;\n",
       "    }\n",
       "</style>\n",
       "<table border=\"1\" class=\"dataframe\">\n",
       "  <thead>\n",
       "    <tr style=\"text-align: right;\">\n",
       "      <th></th>\n",
       "      <th>gender</th>\n",
       "      <th>customer_id</th>\n",
       "      <th>income</th>\n",
       "      <th>age_by_decade</th>\n",
       "      <th>became_member_year</th>\n",
       "      <th>became_member_month</th>\n",
       "      <th>became_member_day</th>\n",
       "      <th>became_member_tenure</th>\n",
       "      <th>income_by_range</th>\n",
       "      <th>F</th>\n",
       "      <th>...</th>\n",
       "      <th>income_30ths</th>\n",
       "      <th>income_40ths</th>\n",
       "      <th>income_50ths</th>\n",
       "      <th>income_60ths</th>\n",
       "      <th>income_70ths</th>\n",
       "      <th>income_80ths</th>\n",
       "      <th>income_90ths</th>\n",
       "      <th>income_100ths</th>\n",
       "      <th>income_110ths</th>\n",
       "      <th>income_120ths</th>\n",
       "    </tr>\n",
       "  </thead>\n",
       "  <tbody>\n",
       "    <tr>\n",
       "      <th>1</th>\n",
       "      <td>F</td>\n",
       "      <td>0610b486422d4921ae7d2bf64640c50b</td>\n",
       "      <td>112000.0</td>\n",
       "      <td>50s</td>\n",
       "      <td>2017</td>\n",
       "      <td>7</td>\n",
       "      <td>15</td>\n",
       "      <td>1028</td>\n",
       "      <td>110ths</td>\n",
       "      <td>1</td>\n",
       "      <td>...</td>\n",
       "      <td>0</td>\n",
       "      <td>0</td>\n",
       "      <td>0</td>\n",
       "      <td>0</td>\n",
       "      <td>0</td>\n",
       "      <td>0</td>\n",
       "      <td>0</td>\n",
       "      <td>0</td>\n",
       "      <td>1</td>\n",
       "      <td>0</td>\n",
       "    </tr>\n",
       "    <tr>\n",
       "      <th>3</th>\n",
       "      <td>F</td>\n",
       "      <td>78afa995795e4d85b5d9ceeca43f5fef</td>\n",
       "      <td>100000.0</td>\n",
       "      <td>70s</td>\n",
       "      <td>2017</td>\n",
       "      <td>5</td>\n",
       "      <td>9</td>\n",
       "      <td>1095</td>\n",
       "      <td>100ths</td>\n",
       "      <td>1</td>\n",
       "      <td>...</td>\n",
       "      <td>0</td>\n",
       "      <td>0</td>\n",
       "      <td>0</td>\n",
       "      <td>0</td>\n",
       "      <td>0</td>\n",
       "      <td>0</td>\n",
       "      <td>0</td>\n",
       "      <td>1</td>\n",
       "      <td>0</td>\n",
       "      <td>0</td>\n",
       "    </tr>\n",
       "    <tr>\n",
       "      <th>5</th>\n",
       "      <td>M</td>\n",
       "      <td>e2127556f4f64592b11af22de27a7932</td>\n",
       "      <td>70000.0</td>\n",
       "      <td>60s</td>\n",
       "      <td>2018</td>\n",
       "      <td>4</td>\n",
       "      <td>26</td>\n",
       "      <td>743</td>\n",
       "      <td>70ths</td>\n",
       "      <td>0</td>\n",
       "      <td>...</td>\n",
       "      <td>0</td>\n",
       "      <td>0</td>\n",
       "      <td>0</td>\n",
       "      <td>0</td>\n",
       "      <td>1</td>\n",
       "      <td>0</td>\n",
       "      <td>0</td>\n",
       "      <td>0</td>\n",
       "      <td>0</td>\n",
       "      <td>0</td>\n",
       "    </tr>\n",
       "    <tr>\n",
       "      <th>8</th>\n",
       "      <td>M</td>\n",
       "      <td>389bc3fa690240e798340f5a15918d5c</td>\n",
       "      <td>53000.0</td>\n",
       "      <td>60s</td>\n",
       "      <td>2018</td>\n",
       "      <td>2</td>\n",
       "      <td>9</td>\n",
       "      <td>819</td>\n",
       "      <td>50ths</td>\n",
       "      <td>0</td>\n",
       "      <td>...</td>\n",
       "      <td>0</td>\n",
       "      <td>0</td>\n",
       "      <td>1</td>\n",
       "      <td>0</td>\n",
       "      <td>0</td>\n",
       "      <td>0</td>\n",
       "      <td>0</td>\n",
       "      <td>0</td>\n",
       "      <td>0</td>\n",
       "      <td>0</td>\n",
       "    </tr>\n",
       "    <tr>\n",
       "      <th>12</th>\n",
       "      <td>M</td>\n",
       "      <td>2eeac8d8feae4a8cad5a6af0499a211d</td>\n",
       "      <td>51000.0</td>\n",
       "      <td>50s</td>\n",
       "      <td>2017</td>\n",
       "      <td>11</td>\n",
       "      <td>11</td>\n",
       "      <td>909</td>\n",
       "      <td>50ths</td>\n",
       "      <td>0</td>\n",
       "      <td>...</td>\n",
       "      <td>0</td>\n",
       "      <td>0</td>\n",
       "      <td>1</td>\n",
       "      <td>0</td>\n",
       "      <td>0</td>\n",
       "      <td>0</td>\n",
       "      <td>0</td>\n",
       "      <td>0</td>\n",
       "      <td>0</td>\n",
       "      <td>0</td>\n",
       "    </tr>\n",
       "  </tbody>\n",
       "</table>\n",
       "<p>5 rows × 50 columns</p>\n",
       "</div>"
      ],
      "text/plain": [
       "   gender                       customer_id    income age_by_decade  \\\n",
       "1       F  0610b486422d4921ae7d2bf64640c50b  112000.0           50s   \n",
       "3       F  78afa995795e4d85b5d9ceeca43f5fef  100000.0           70s   \n",
       "5       M  e2127556f4f64592b11af22de27a7932   70000.0           60s   \n",
       "8       M  389bc3fa690240e798340f5a15918d5c   53000.0           60s   \n",
       "12      M  2eeac8d8feae4a8cad5a6af0499a211d   51000.0           50s   \n",
       "\n",
       "    became_member_year  became_member_month  became_member_day  \\\n",
       "1                 2017                    7                 15   \n",
       "3                 2017                    5                  9   \n",
       "5                 2018                    4                 26   \n",
       "8                 2018                    2                  9   \n",
       "12                2017                   11                 11   \n",
       "\n",
       "    became_member_tenure income_by_range  F      ...        income_30ths  \\\n",
       "1                   1028          110ths  1      ...                   0   \n",
       "3                   1095          100ths  1      ...                   0   \n",
       "5                    743           70ths  0      ...                   0   \n",
       "8                    819           50ths  0      ...                   0   \n",
       "12                   909           50ths  0      ...                   0   \n",
       "\n",
       "    income_40ths  income_50ths  income_60ths  income_70ths  income_80ths  \\\n",
       "1              0             0             0             0             0   \n",
       "3              0             0             0             0             0   \n",
       "5              0             0             0             1             0   \n",
       "8              0             1             0             0             0   \n",
       "12             0             1             0             0             0   \n",
       "\n",
       "    income_90ths  income_100ths  income_110ths  income_120ths  \n",
       "1              0              0              1              0  \n",
       "3              0              1              0              0  \n",
       "5              0              0              0              0  \n",
       "8              0              0              0              0  \n",
       "12             0              0              0              0  \n",
       "\n",
       "[5 rows x 50 columns]"
      ]
     },
     "execution_count": 26,
     "metadata": {},
     "output_type": "execute_result"
    }
   ],
   "source": [
    "# show the cleaned profile data\n",
    "clean_profile.head()"
   ]
  },
  {
   "cell_type": "code",
   "execution_count": 27,
   "metadata": {},
   "outputs": [
    {
     "data": {
      "text/plain": [
       "Index(['gender', 'customer_id', 'income', 'age_by_decade',\n",
       "       'became_member_year', 'became_member_month', 'became_member_day',\n",
       "       'became_member_tenure', 'income_by_range', 'F', 'M', 'O', 'age_10s',\n",
       "       'age_20s', 'age_30s', 'age_40s', 'age_50s', 'age_60s', 'age_70s',\n",
       "       'age_80s', 'age_90s', 'age_100s', '2013', '2014', '2015', '2016',\n",
       "       '2017', '2018', 'month_1', 'month_2', 'month_3', 'month_4', 'month_5',\n",
       "       'month_6', 'month_7', 'month_8', 'month_9', 'month_10', 'month_11',\n",
       "       'month_12', 'income_30ths', 'income_40ths', 'income_50ths',\n",
       "       'income_60ths', 'income_70ths', 'income_80ths', 'income_90ths',\n",
       "       'income_100ths', 'income_110ths', 'income_120ths'],\n",
       "      dtype='object')"
      ]
     },
     "execution_count": 27,
     "metadata": {},
     "output_type": "execute_result"
    }
   ],
   "source": [
    "# show the columns of cleaned profile data\n",
    "clean_profile.columns"
   ]
  },
  {
   "cell_type": "code",
   "execution_count": 28,
   "metadata": {},
   "outputs": [],
   "source": [
    "def plot_bar(data,column,xlabel,ylabel,title):\n",
    "    \n",
    "    \"\"\" function plots a bar chart\n",
    "    \n",
    "    INPUT:\n",
    "        data : string that stores dataframe name\n",
    "        column : string that stores the culumn name\n",
    "        xlabel : string that stores xlabel\n",
    "        ylabel : string that stores ylabel\n",
    "        title : string that stores the title of the plot\n",
    "    \n",
    "    \"\"\"\n",
    "    data[column].value_counts().plot.bar(figsize=(20,6), fontsize=12,color='c')\n",
    "    plt.xlabel(xlabel, fontsize=18)\n",
    "    plt.ylabel(ylabel, fontsize=18)\n",
    "    plt.title(title, fontsize=18)"
   ]
  },
  {
   "cell_type": "code",
   "execution_count": 29,
   "metadata": {},
   "outputs": [
    {
     "data": {
      "image/png": "[encoded data removed]",
      "text/plain": [
       "<matplotlib.figure.Figure at 0x7fab70909a58>"
      ]
     },
     "metadata": {
      "needs_background": "light"
     },
     "output_type": "display_data"
    }
   ],
   "source": [
    "# Plot distribution of ages in profile dataframe after observations with age 118 has been dropped \n",
    "plot_bar(clean_profile,'age_by_decade','Age by decade','Count','Distribution of age by decade counts (without age 118)')"
   ]
  },
  {
   "cell_type": "markdown",
   "metadata": {},
   "source": [
    "\n",
    "The plot shows that the feature age after dropping age 118 is uniformly distributed, we see that the age of the majority f our costumers is between 40 and 80 years old ."
   ]
  },
  {
   "cell_type": "code",
   "execution_count": 30,
   "metadata": {},
   "outputs": [
    {
     "data": {
      "image/png": "[encoded data removed]",
      "text/plain": [
       "<matplotlib.figure.Figure at 0x7fab7083cd30>"
      ]
     },
     "metadata": {
      "needs_background": "light"
     },
     "output_type": "display_data"
    }
   ],
   "source": [
    "# Plot distribution of customer count per year in which the customer became member \n",
    "plot_bar(clean_profile,'became_member_year','Year','Count','Distribution of membership start year')\n"
   ]
  },
  {
   "cell_type": "markdown",
   "metadata": {},
   "source": [
    "The results suggest that most customers joined the Starbucks rewards program in 2017 followed by 2018."
   ]
  },
  {
   "cell_type": "code",
   "execution_count": 31,
   "metadata": {},
   "outputs": [
    {
     "data": {
      "image/png": "[encoded data removed]",
      "text/plain": [
       "<matplotlib.figure.Figure at 0x7fab708e36a0>"
      ]
     },
     "metadata": {
      "needs_background": "light"
     },
     "output_type": "display_data"
    }
   ],
   "source": [
    "# Plot distribution of customer count per year in which the customer became member \n",
    "plot_bar(clean_profile,'income_by_range','Income','Count','Distribution income by range')\n"
   ]
  },
  {
   "cell_type": "markdown",
   "metadata": {},
   "source": [
    "from the plot above, we see that most customers incomes are between 30 000 and 90 000"
   ]
  },
  {
   "cell_type": "code",
   "execution_count": 32,
   "metadata": {},
   "outputs": [
    {
     "data": {
      "text/plain": [
       "Text(0.5,1,'Gender counts by membership year')"
      ]
     },
     "execution_count": 32,
     "metadata": {},
     "output_type": "execute_result"
    },
    {
     "data": {
      "image/png": "[encoded data removed]",
      "text/plain": [
       "<matplotlib.figure.Figure at 0x7fab7079bba8>"
      ]
     },
     "metadata": {
      "needs_background": "light"
     },
     "output_type": "display_data"
    }
   ],
   "source": [
    "# groupby start_year and gender to plot a graph\n",
    "membership_date = clean_profile.groupby(['became_member_year', 'gender']).size()\n",
    "membership_date = membership_date.reset_index()\n",
    "membership_date.columns = ['became_member_year', 'gender', 'count']\n",
    "\n",
    "# plot a bar graph for age distribution as a function of gender in membership program\n",
    "plt.figure(figsize=(10, 5))\n",
    "sns.barplot(x='became_member_year', y='count', hue='gender', data=membership_date)\n",
    "plt.xlabel('Membership Start Year')\n",
    "plt.ylabel('Count');\n",
    "plt.title('Gender counts by membership year')\n"
   ]
  },
  {
   "cell_type": "markdown",
   "metadata": {},
   "source": [
    "The plot depict that there are more male customers joining the program every year than female customers."
   ]
  },
  {
   "cell_type": "code",
   "execution_count": 33,
   "metadata": {},
   "outputs": [
    {
     "data": {
      "image/png": "[encoded data removed]",
      "text/plain": [
       "<matplotlib.figure.Figure at 0x7fab706fc4e0>"
      ]
     },
     "metadata": {
      "needs_background": "light"
     },
     "output_type": "display_data"
    }
   ],
   "source": [
    "# Plot histograms of income per gender\n",
    "\n",
    "# to be able to draw three subplots in a row\n",
    "fig, ax = plt.subplots(figsize=(20,8),nrows=1, ncols=3, sharex=True, sharey=True)\n",
    "fig.tight_layout(pad=9.0)\n",
    "\n",
    "# plot a male customers income distribution\n",
    "plt.subplot(131)\n",
    "sns.distplot(clean_profile.loc[clean_profile['gender'] == 'M', 'income'])\n",
    "plt.xlabel('Income(M)', fontsize=10)\n",
    "plt.ylabel('Counts', fontsize=10)\n",
    "plt.title('Histogram of Income(M)', fontsize=14)\n",
    "plt.grid(True)\n",
    "\n",
    "# plot a female customers income distribution\n",
    "plt.subplot(132)\n",
    "sns.distplot(clean_profile.loc[clean_profile['gender'] == 'F', 'income'])\n",
    "plt.xlabel('Income(F)', fontsize=10)\n",
    "plt.ylabel('Counts', fontsize=10)\n",
    "plt.title('Histogram of Income(F)', fontsize=14)\n",
    "plt.grid(True)\n",
    "\n",
    "# plot other customers income distribution\n",
    "plt.subplot(133)\n",
    "sns.distplot(clean_profile.loc[clean_profile['gender'] == 'O', 'income'])\n",
    "plt.xlabel('Income(O)', fontsize=10)\n",
    "plt.ylabel('Counts', fontsize=10)\n",
    "plt.title('Histogram of Income(O)', fontsize=14)\n",
    "plt.grid(True)\n",
    "\n",
    "plt.show()\n",
    "\n"
   ]
  },
  {
   "cell_type": "markdown",
   "metadata": {},
   "source": [
    "from the plots above we conclude that minimum and maximum incomes for both male and female are approximately same but the count of male customers in low-income level is slightly higher than that of female customers. Also, income distribution for Others is also similar to males and females, with a minimum and maximum incomes less than males and females."
   ]
  },
  {
   "cell_type": "markdown",
   "metadata": {},
   "source": [
    "### 1.3 Transcript data"
   ]
  },
  {
   "cell_type": "code",
   "execution_count": 34,
   "metadata": {},
   "outputs": [
    {
     "data": {
      "text/html": [
       "<div>\n",
       "<style scoped>\n",
       "    .dataframe tbody tr th:only-of-type {\n",
       "        vertical-align: middle;\n",
       "    }\n",
       "\n",
       "    .dataframe tbody tr th {\n",
       "        vertical-align: top;\n",
       "    }\n",
       "\n",
       "    .dataframe thead th {\n",
       "        text-align: right;\n",
       "    }\n",
       "</style>\n",
       "<table border=\"1\" class=\"dataframe\">\n",
       "  <thead>\n",
       "    <tr style=\"text-align: right;\">\n",
       "      <th></th>\n",
       "      <th>event</th>\n",
       "      <th>person</th>\n",
       "      <th>time</th>\n",
       "      <th>value</th>\n",
       "    </tr>\n",
       "  </thead>\n",
       "  <tbody>\n",
       "    <tr>\n",
       "      <th>0</th>\n",
       "      <td>offer received</td>\n",
       "      <td>78afa995795e4d85b5d9ceeca43f5fef</td>\n",
       "      <td>0</td>\n",
       "      <td>{'offer id': '9b98b8c7a33c4b65b9aebfe6a799e6d9'}</td>\n",
       "    </tr>\n",
       "    <tr>\n",
       "      <th>1</th>\n",
       "      <td>offer received</td>\n",
       "      <td>a03223e636434f42ac4c3df47e8bac43</td>\n",
       "      <td>0</td>\n",
       "      <td>{'offer id': '0b1e1539f2cc45b7b9fa7c272da2e1d7'}</td>\n",
       "    </tr>\n",
       "    <tr>\n",
       "      <th>2</th>\n",
       "      <td>offer received</td>\n",
       "      <td>e2127556f4f64592b11af22de27a7932</td>\n",
       "      <td>0</td>\n",
       "      <td>{'offer id': '2906b810c7d4411798c6938adc9daaa5'}</td>\n",
       "    </tr>\n",
       "    <tr>\n",
       "      <th>3</th>\n",
       "      <td>offer received</td>\n",
       "      <td>8ec6ce2a7e7949b1bf142def7d0e0586</td>\n",
       "      <td>0</td>\n",
       "      <td>{'offer id': 'fafdcd668e3743c1bb461111dcafc2a4'}</td>\n",
       "    </tr>\n",
       "    <tr>\n",
       "      <th>4</th>\n",
       "      <td>offer received</td>\n",
       "      <td>68617ca6246f4fbc85e91a2a49552598</td>\n",
       "      <td>0</td>\n",
       "      <td>{'offer id': '4d5c57ea9a6940dd891ad53e9dbe8da0'}</td>\n",
       "    </tr>\n",
       "  </tbody>\n",
       "</table>\n",
       "</div>"
      ],
      "text/plain": [
       "            event                            person  time  \\\n",
       "0  offer received  78afa995795e4d85b5d9ceeca43f5fef     0   \n",
       "1  offer received  a03223e636434f42ac4c3df47e8bac43     0   \n",
       "2  offer received  e2127556f4f64592b11af22de27a7932     0   \n",
       "3  offer received  8ec6ce2a7e7949b1bf142def7d0e0586     0   \n",
       "4  offer received  68617ca6246f4fbc85e91a2a49552598     0   \n",
       "\n",
       "                                              value  \n",
       "0  {'offer id': '9b98b8c7a33c4b65b9aebfe6a799e6d9'}  \n",
       "1  {'offer id': '0b1e1539f2cc45b7b9fa7c272da2e1d7'}  \n",
       "2  {'offer id': '2906b810c7d4411798c6938adc9daaa5'}  \n",
       "3  {'offer id': 'fafdcd668e3743c1bb461111dcafc2a4'}  \n",
       "4  {'offer id': '4d5c57ea9a6940dd891ad53e9dbe8da0'}  "
      ]
     },
     "execution_count": 34,
     "metadata": {},
     "output_type": "execute_result"
    }
   ],
   "source": [
    "# show the head of dataframe transcript\n",
    "transcript.head()"
   ]
  },
  {
   "cell_type": "code",
   "execution_count": 35,
   "metadata": {},
   "outputs": [
    {
     "data": {
      "text/plain": [
       "(306534, 4)"
      ]
     },
     "execution_count": 35,
     "metadata": {},
     "output_type": "execute_result"
    }
   ],
   "source": [
    "# Print shape of transcript dataframe\n",
    "transcript.shape"
   ]
  },
  {
   "cell_type": "code",
   "execution_count": 36,
   "metadata": {},
   "outputs": [
    {
     "data": {
      "text/plain": [
       "event     0\n",
       "person    0\n",
       "time      0\n",
       "value     0\n",
       "dtype: int64"
      ]
     },
     "execution_count": 36,
     "metadata": {},
     "output_type": "execute_result"
    }
   ],
   "source": [
    "# Calculate null values in transaction dataframe\n",
    "transcript.isnull().sum()"
   ]
  },
  {
   "cell_type": "markdown",
   "metadata": {},
   "source": [
    "As shown above, there are no null values in transcript dataframe"
   ]
  },
  {
   "cell_type": "code",
   "execution_count": 37,
   "metadata": {},
   "outputs": [
    {
     "data": {
      "text/plain": [
       "False    272762\n",
       "True      33772\n",
       "Name: person, dtype: int64"
      ]
     },
     "execution_count": 37,
     "metadata": {},
     "output_type": "execute_result"
    }
   ],
   "source": [
    "# calculate number of observations in transcript of cunsomers having age 118\n",
    "id_age_118 = profile_118['id'].unique().tolist()\n",
    "transcript['person'].isin(id_age_118).value_counts()"
   ]
  },
  {
   "cell_type": "markdown",
   "metadata": {},
   "source": [
    "in the section of cleaning profile dataset, I found that customers with age 118 are outliers, for that reason I droped all rows with age 118, I'll do the same here because we don't have any ids referring to costumers with age 118 in the profile dataset."
   ]
  },
  {
   "cell_type": "code",
   "execution_count": 38,
   "metadata": {},
   "outputs": [
    {
     "data": {
      "text/plain": [
       "Index(['event', 'person', 'time', 'value'], dtype='object')"
      ]
     },
     "execution_count": 38,
     "metadata": {},
     "output_type": "execute_result"
    }
   ],
   "source": [
    "# Print features of transcript dataframe\n",
    "transcript.columns"
   ]
  },
  {
   "cell_type": "code",
   "execution_count": 39,
   "metadata": {},
   "outputs": [],
   "source": [
    "def clean_trascript(transcript):\n",
    "    \n",
    "    '''\n",
    "    data cleaning the transcript dataframe\n",
    "    \n",
    "    INPUT:\n",
    "    transcript - the transcript dataframe to be cleaned\n",
    "    \n",
    "    OUTPUT:\n",
    "    transcript - the cleaned transcript dataframe\n",
    "    \n",
    "    '''\n",
    "    # copy dataframe from transcript to clean_transcript\n",
    "    clean_transcript = transcript.copy()\n",
    "    \n",
    "    # Change name of feature person to customer_id in transcript dataframe\n",
    "    clean_transcript.rename(columns={'person': 'customer_id'}, inplace=True)\n",
    "    \n",
    "    # Remove observations having customers with age 118 from transcript dataframe\n",
    "    clean_transcript = clean_transcript[~clean_transcript['customer_id'].isin(id_age_118)]    \n",
    "    \n",
    "    return clean_transcript\n"
   ]
  },
  {
   "cell_type": "code",
   "execution_count": 40,
   "metadata": {},
   "outputs": [],
   "source": [
    "clean_transcript=clean_trascript(transcript)"
   ]
  },
  {
   "cell_type": "code",
   "execution_count": 41,
   "metadata": {},
   "outputs": [
    {
     "data": {
      "text/html": [
       "<div>\n",
       "<style scoped>\n",
       "    .dataframe tbody tr th:only-of-type {\n",
       "        vertical-align: middle;\n",
       "    }\n",
       "\n",
       "    .dataframe tbody tr th {\n",
       "        vertical-align: top;\n",
       "    }\n",
       "\n",
       "    .dataframe thead th {\n",
       "        text-align: right;\n",
       "    }\n",
       "</style>\n",
       "<table border=\"1\" class=\"dataframe\">\n",
       "  <thead>\n",
       "    <tr style=\"text-align: right;\">\n",
       "      <th></th>\n",
       "      <th>event</th>\n",
       "      <th>customer_id</th>\n",
       "      <th>time</th>\n",
       "      <th>value</th>\n",
       "    </tr>\n",
       "  </thead>\n",
       "  <tbody>\n",
       "    <tr>\n",
       "      <th>0</th>\n",
       "      <td>offer received</td>\n",
       "      <td>78afa995795e4d85b5d9ceeca43f5fef</td>\n",
       "      <td>0</td>\n",
       "      <td>{'offer id': '9b98b8c7a33c4b65b9aebfe6a799e6d9'}</td>\n",
       "    </tr>\n",
       "    <tr>\n",
       "      <th>2</th>\n",
       "      <td>offer received</td>\n",
       "      <td>e2127556f4f64592b11af22de27a7932</td>\n",
       "      <td>0</td>\n",
       "      <td>{'offer id': '2906b810c7d4411798c6938adc9daaa5'}</td>\n",
       "    </tr>\n",
       "    <tr>\n",
       "      <th>5</th>\n",
       "      <td>offer received</td>\n",
       "      <td>389bc3fa690240e798340f5a15918d5c</td>\n",
       "      <td>0</td>\n",
       "      <td>{'offer id': 'f19421c1d4aa40978ebb69ca19b0e20d'}</td>\n",
       "    </tr>\n",
       "    <tr>\n",
       "      <th>7</th>\n",
       "      <td>offer received</td>\n",
       "      <td>2eeac8d8feae4a8cad5a6af0499a211d</td>\n",
       "      <td>0</td>\n",
       "      <td>{'offer id': '3f207df678b143eea3cee63160fa8bed'}</td>\n",
       "    </tr>\n",
       "    <tr>\n",
       "      <th>8</th>\n",
       "      <td>offer received</td>\n",
       "      <td>aa4862eba776480b8bb9c68455b8c2e1</td>\n",
       "      <td>0</td>\n",
       "      <td>{'offer id': '0b1e1539f2cc45b7b9fa7c272da2e1d7'}</td>\n",
       "    </tr>\n",
       "  </tbody>\n",
       "</table>\n",
       "</div>"
      ],
      "text/plain": [
       "            event                       customer_id  time  \\\n",
       "0  offer received  78afa995795e4d85b5d9ceeca43f5fef     0   \n",
       "2  offer received  e2127556f4f64592b11af22de27a7932     0   \n",
       "5  offer received  389bc3fa690240e798340f5a15918d5c     0   \n",
       "7  offer received  2eeac8d8feae4a8cad5a6af0499a211d     0   \n",
       "8  offer received  aa4862eba776480b8bb9c68455b8c2e1     0   \n",
       "\n",
       "                                              value  \n",
       "0  {'offer id': '9b98b8c7a33c4b65b9aebfe6a799e6d9'}  \n",
       "2  {'offer id': '2906b810c7d4411798c6938adc9daaa5'}  \n",
       "5  {'offer id': 'f19421c1d4aa40978ebb69ca19b0e20d'}  \n",
       "7  {'offer id': '3f207df678b143eea3cee63160fa8bed'}  \n",
       "8  {'offer id': '0b1e1539f2cc45b7b9fa7c272da2e1d7'}  "
      ]
     },
     "execution_count": 41,
     "metadata": {},
     "output_type": "execute_result"
    }
   ],
   "source": [
    "clean_transcript.head()"
   ]
  },
  {
   "cell_type": "code",
   "execution_count": 42,
   "metadata": {},
   "outputs": [
    {
     "data": {
      "text/plain": [
       "0"
      ]
     },
     "execution_count": 42,
     "metadata": {},
     "output_type": "execute_result"
    }
   ],
   "source": [
    "# Check if customers with age 118 has been removed from clean_transcript dataframe\n",
    "clean_transcript['customer_id'].isin(id_age_118).sum()"
   ]
  },
  {
   "cell_type": "markdown",
   "metadata": {},
   "source": [
    "we observe that all customers with age 118 are successfuly droped "
   ]
  },
  {
   "cell_type": "code",
   "execution_count": 43,
   "metadata": {},
   "outputs": [
    {
     "data": {
      "text/plain": [
       "0"
      ]
     },
     "execution_count": 43,
     "metadata": {},
     "output_type": "execute_result"
    }
   ],
   "source": [
    "# Check if all the customers in clean_profile dataframe are also in clean_transcript dataframe\n",
    "len(set(clean_transcript['customer_id'].unique()) - set(clean_profile['customer_id'].unique()))"
   ]
  },
  {
   "cell_type": "markdown",
   "metadata": {},
   "source": [
    "the above result shows that all the customers in clean_profile dataframe are also in clean_transcript dataframe"
   ]
  },
  {
   "cell_type": "code",
   "execution_count": 44,
   "metadata": {},
   "outputs": [
    {
     "data": {
      "text/plain": [
       "transaction        45.33\n",
       "offer received     24.88\n",
       "offer viewed       18.83\n",
       "offer completed    10.95\n",
       "Name: event, dtype: float64"
      ]
     },
     "execution_count": 44,
     "metadata": {},
     "output_type": "execute_result"
    }
   ],
   "source": [
    "# the percentage of unique values in event feature\n",
    "round((transcript['event'].value_counts()/transcript['event'].value_counts().sum())*100,2)"
   ]
  },
  {
   "cell_type": "markdown",
   "metadata": {},
   "source": [
    "From above, we can observe that there are 45.45% of events as transactions, 24.38% of events as offers received, 18.28% of events as offers viewed and 11.89 % of events as offers completed. We need to separate events with type 'transactions' and 'offers' to be used later on for analysis."
   ]
  },
  {
   "cell_type": "code",
   "execution_count": 45,
   "metadata": {},
   "outputs": [],
   "source": [
    "# Create dataframe offers_df containing only offers events and transaction_df containing only transaction event\n",
    "# Create a list of offer event types\n",
    "offer_event_list = ['offer received', 'offer viewed', 'offer completed']\n",
    "\n",
    "# Find index where feature 'event' is 'offer received', 'offer viewed', 'offer completed'\n",
    "offer_index = clean_transcript[clean_transcript['event'].isin(offer_event_list)].index\n",
    "\n",
    "# Find index where feature event is 'transaction'\n",
    "transaction_index = clean_transcript[~clean_transcript['event'].isin(offer_event_list)].index\n",
    "\n",
    "# Create offers_df\n",
    "offers_df = clean_transcript.loc[offer_index,:]\n",
    "\n",
    "# Create transaction_df\n",
    "transaction_df = clean_transcript.loc[transaction_index,:]"
   ]
  },
  {
   "cell_type": "code",
   "execution_count": 46,
   "metadata": {},
   "outputs": [
    {
     "data": {
      "text/html": [
       "<div>\n",
       "<style scoped>\n",
       "    .dataframe tbody tr th:only-of-type {\n",
       "        vertical-align: middle;\n",
       "    }\n",
       "\n",
       "    .dataframe tbody tr th {\n",
       "        vertical-align: top;\n",
       "    }\n",
       "\n",
       "    .dataframe thead th {\n",
       "        text-align: right;\n",
       "    }\n",
       "</style>\n",
       "<table border=\"1\" class=\"dataframe\">\n",
       "  <thead>\n",
       "    <tr style=\"text-align: right;\">\n",
       "      <th></th>\n",
       "      <th>event</th>\n",
       "      <th>customer_id</th>\n",
       "      <th>time</th>\n",
       "      <th>value</th>\n",
       "    </tr>\n",
       "  </thead>\n",
       "  <tbody>\n",
       "    <tr>\n",
       "      <th>0</th>\n",
       "      <td>offer received</td>\n",
       "      <td>78afa995795e4d85b5d9ceeca43f5fef</td>\n",
       "      <td>0</td>\n",
       "      <td>{'offer id': '9b98b8c7a33c4b65b9aebfe6a799e6d9'}</td>\n",
       "    </tr>\n",
       "    <tr>\n",
       "      <th>2</th>\n",
       "      <td>offer received</td>\n",
       "      <td>e2127556f4f64592b11af22de27a7932</td>\n",
       "      <td>0</td>\n",
       "      <td>{'offer id': '2906b810c7d4411798c6938adc9daaa5'}</td>\n",
       "    </tr>\n",
       "    <tr>\n",
       "      <th>5</th>\n",
       "      <td>offer received</td>\n",
       "      <td>389bc3fa690240e798340f5a15918d5c</td>\n",
       "      <td>0</td>\n",
       "      <td>{'offer id': 'f19421c1d4aa40978ebb69ca19b0e20d'}</td>\n",
       "    </tr>\n",
       "    <tr>\n",
       "      <th>7</th>\n",
       "      <td>offer received</td>\n",
       "      <td>2eeac8d8feae4a8cad5a6af0499a211d</td>\n",
       "      <td>0</td>\n",
       "      <td>{'offer id': '3f207df678b143eea3cee63160fa8bed'}</td>\n",
       "    </tr>\n",
       "    <tr>\n",
       "      <th>8</th>\n",
       "      <td>offer received</td>\n",
       "      <td>aa4862eba776480b8bb9c68455b8c2e1</td>\n",
       "      <td>0</td>\n",
       "      <td>{'offer id': '0b1e1539f2cc45b7b9fa7c272da2e1d7'}</td>\n",
       "    </tr>\n",
       "  </tbody>\n",
       "</table>\n",
       "</div>"
      ],
      "text/plain": [
       "            event                       customer_id  time  \\\n",
       "0  offer received  78afa995795e4d85b5d9ceeca43f5fef     0   \n",
       "2  offer received  e2127556f4f64592b11af22de27a7932     0   \n",
       "5  offer received  389bc3fa690240e798340f5a15918d5c     0   \n",
       "7  offer received  2eeac8d8feae4a8cad5a6af0499a211d     0   \n",
       "8  offer received  aa4862eba776480b8bb9c68455b8c2e1     0   \n",
       "\n",
       "                                              value  \n",
       "0  {'offer id': '9b98b8c7a33c4b65b9aebfe6a799e6d9'}  \n",
       "2  {'offer id': '2906b810c7d4411798c6938adc9daaa5'}  \n",
       "5  {'offer id': 'f19421c1d4aa40978ebb69ca19b0e20d'}  \n",
       "7  {'offer id': '3f207df678b143eea3cee63160fa8bed'}  \n",
       "8  {'offer id': '0b1e1539f2cc45b7b9fa7c272da2e1d7'}  "
      ]
     },
     "execution_count": 46,
     "metadata": {},
     "output_type": "execute_result"
    }
   ],
   "source": [
    "# show the dataframe offers_df\n",
    "offers_df.head()"
   ]
  },
  {
   "cell_type": "code",
   "execution_count": 47,
   "metadata": {},
   "outputs": [
    {
     "data": {
      "text/html": [
       "<div>\n",
       "<style scoped>\n",
       "    .dataframe tbody tr th:only-of-type {\n",
       "        vertical-align: middle;\n",
       "    }\n",
       "\n",
       "    .dataframe tbody tr th {\n",
       "        vertical-align: top;\n",
       "    }\n",
       "\n",
       "    .dataframe thead th {\n",
       "        text-align: right;\n",
       "    }\n",
       "</style>\n",
       "<table border=\"1\" class=\"dataframe\">\n",
       "  <thead>\n",
       "    <tr style=\"text-align: right;\">\n",
       "      <th></th>\n",
       "      <th>event</th>\n",
       "      <th>customer_id</th>\n",
       "      <th>time</th>\n",
       "      <th>value</th>\n",
       "    </tr>\n",
       "  </thead>\n",
       "  <tbody>\n",
       "    <tr>\n",
       "      <th>12654</th>\n",
       "      <td>transaction</td>\n",
       "      <td>02c083884c7d45b39cc68e1314fec56c</td>\n",
       "      <td>0</td>\n",
       "      <td>{'amount': 0.8300000000000001}</td>\n",
       "    </tr>\n",
       "    <tr>\n",
       "      <th>12657</th>\n",
       "      <td>transaction</td>\n",
       "      <td>9fa9ae8f57894cc9a3b8a9bbe0fc1b2f</td>\n",
       "      <td>0</td>\n",
       "      <td>{'amount': 34.56}</td>\n",
       "    </tr>\n",
       "    <tr>\n",
       "      <th>12659</th>\n",
       "      <td>transaction</td>\n",
       "      <td>54890f68699049c2a04d415abc25e717</td>\n",
       "      <td>0</td>\n",
       "      <td>{'amount': 13.23}</td>\n",
       "    </tr>\n",
       "    <tr>\n",
       "      <th>12670</th>\n",
       "      <td>transaction</td>\n",
       "      <td>b2f1cd155b864803ad8334cdf13c4bd2</td>\n",
       "      <td>0</td>\n",
       "      <td>{'amount': 19.51}</td>\n",
       "    </tr>\n",
       "    <tr>\n",
       "      <th>12671</th>\n",
       "      <td>transaction</td>\n",
       "      <td>fe97aa22dd3e48c8b143116a8403dd52</td>\n",
       "      <td>0</td>\n",
       "      <td>{'amount': 18.97}</td>\n",
       "    </tr>\n",
       "  </tbody>\n",
       "</table>\n",
       "</div>"
      ],
      "text/plain": [
       "             event                       customer_id  time  \\\n",
       "12654  transaction  02c083884c7d45b39cc68e1314fec56c     0   \n",
       "12657  transaction  9fa9ae8f57894cc9a3b8a9bbe0fc1b2f     0   \n",
       "12659  transaction  54890f68699049c2a04d415abc25e717     0   \n",
       "12670  transaction  b2f1cd155b864803ad8334cdf13c4bd2     0   \n",
       "12671  transaction  fe97aa22dd3e48c8b143116a8403dd52     0   \n",
       "\n",
       "                                value  \n",
       "12654  {'amount': 0.8300000000000001}  \n",
       "12657               {'amount': 34.56}  \n",
       "12659               {'amount': 13.23}  \n",
       "12670               {'amount': 19.51}  \n",
       "12671               {'amount': 18.97}  "
      ]
     },
     "execution_count": 47,
     "metadata": {},
     "output_type": "execute_result"
    }
   ],
   "source": [
    "# show the dataframe offers_df\n",
    "transaction_df.head()"
   ]
  },
  {
   "cell_type": "code",
   "execution_count": 48,
   "metadata": {},
   "outputs": [
    {
     "data": {
      "text/plain": [
       "array(['transaction'], dtype=object)"
      ]
     },
     "execution_count": 48,
     "metadata": {},
     "output_type": "execute_result"
    }
   ],
   "source": [
    "# Print unique values in feature event in transaction_df\n",
    "transaction_df['event'].unique()"
   ]
  },
  {
   "cell_type": "code",
   "execution_count": 49,
   "metadata": {},
   "outputs": [
    {
     "data": {
      "text/plain": [
       "array(['offer received', 'offer viewed', 'offer completed'], dtype=object)"
      ]
     },
     "execution_count": 49,
     "metadata": {},
     "output_type": "execute_result"
    }
   ],
   "source": [
    "# Print unique values in feature event in offers_df\n",
    "offers_df['event'].unique()"
   ]
  },
  {
   "cell_type": "markdown",
   "metadata": {},
   "source": [
    "From above, we can observe that dataframe offers_df contains only events 'offer received', 'offer viewed' and 'offer completed' and dataframe transaction_df contains only event 'transaction'."
   ]
  },
  {
   "cell_type": "code",
   "execution_count": 50,
   "metadata": {},
   "outputs": [
    {
     "data": {
      "text/plain": [
       "(array([0, 1, 2]), <a list of 3 Text xticklabel objects>)"
      ]
     },
     "execution_count": 50,
     "metadata": {},
     "output_type": "execute_result"
    },
    {
     "data": {
      "image/png": "[encoded data removed]",
      "text/plain": [
       "<matplotlib.figure.Figure at 0x7fab706f7cc0>"
      ]
     },
     "metadata": {
      "needs_background": "light"
     },
     "output_type": "display_data"
    }
   ],
   "source": [
    "# plot value counts in feature offers_df\n",
    "offers_df['event'].value_counts().plot(kind='bar')\n",
    "plt.xticks(rotation=0)"
   ]
  },
  {
   "cell_type": "code",
   "execution_count": 51,
   "metadata": {},
   "outputs": [
    {
     "data": {
      "text/plain": [
       "(array([0]), <a list of 1 Text xticklabel objects>)"
      ]
     },
     "execution_count": 51,
     "metadata": {},
     "output_type": "execute_result"
    },
    {
     "data": {
      "image/png": "[encoded data removed]",
      "text/plain": [
       "<matplotlib.figure.Figure at 0x7fab70729668>"
      ]
     },
     "metadata": {
      "needs_background": "light"
     },
     "output_type": "display_data"
    }
   ],
   "source": [
    "# plot value counts in feature offers_df\n",
    "transaction_df['event'].value_counts().plot(kind='bar')\n",
    "plt.xticks(rotation=0)"
   ]
  },
  {
   "cell_type": "code",
   "execution_count": 52,
   "metadata": {},
   "outputs": [],
   "source": [
    "# Create function to retrieve offer_id from feature value\n",
    "def offer_id(x):\n",
    "    for key,value in x.items():\n",
    "        if key in ['offer id','offer_id']:\n",
    "            return str(value)"
   ]
  },
  {
   "cell_type": "code",
   "execution_count": 53,
   "metadata": {},
   "outputs": [],
   "source": [
    "# Create column 'offer_id' and applying the function offer_id\n",
    "offers_df['offer_id'] = offers_df['value'].apply(offer_id)"
   ]
  },
  {
   "cell_type": "code",
   "execution_count": 54,
   "metadata": {},
   "outputs": [
    {
     "data": {
      "text/html": [
       "<div>\n",
       "<style scoped>\n",
       "    .dataframe tbody tr th:only-of-type {\n",
       "        vertical-align: middle;\n",
       "    }\n",
       "\n",
       "    .dataframe tbody tr th {\n",
       "        vertical-align: top;\n",
       "    }\n",
       "\n",
       "    .dataframe thead th {\n",
       "        text-align: right;\n",
       "    }\n",
       "</style>\n",
       "<table border=\"1\" class=\"dataframe\">\n",
       "  <thead>\n",
       "    <tr style=\"text-align: right;\">\n",
       "      <th></th>\n",
       "      <th>event</th>\n",
       "      <th>customer_id</th>\n",
       "      <th>time</th>\n",
       "      <th>value</th>\n",
       "      <th>offer_id</th>\n",
       "    </tr>\n",
       "  </thead>\n",
       "  <tbody>\n",
       "    <tr>\n",
       "      <th>0</th>\n",
       "      <td>offer received</td>\n",
       "      <td>78afa995795e4d85b5d9ceeca43f5fef</td>\n",
       "      <td>0</td>\n",
       "      <td>{'offer id': '9b98b8c7a33c4b65b9aebfe6a799e6d9'}</td>\n",
       "      <td>9b98b8c7a33c4b65b9aebfe6a799e6d9</td>\n",
       "    </tr>\n",
       "    <tr>\n",
       "      <th>2</th>\n",
       "      <td>offer received</td>\n",
       "      <td>e2127556f4f64592b11af22de27a7932</td>\n",
       "      <td>0</td>\n",
       "      <td>{'offer id': '2906b810c7d4411798c6938adc9daaa5'}</td>\n",
       "      <td>2906b810c7d4411798c6938adc9daaa5</td>\n",
       "    </tr>\n",
       "    <tr>\n",
       "      <th>5</th>\n",
       "      <td>offer received</td>\n",
       "      <td>389bc3fa690240e798340f5a15918d5c</td>\n",
       "      <td>0</td>\n",
       "      <td>{'offer id': 'f19421c1d4aa40978ebb69ca19b0e20d'}</td>\n",
       "      <td>f19421c1d4aa40978ebb69ca19b0e20d</td>\n",
       "    </tr>\n",
       "    <tr>\n",
       "      <th>7</th>\n",
       "      <td>offer received</td>\n",
       "      <td>2eeac8d8feae4a8cad5a6af0499a211d</td>\n",
       "      <td>0</td>\n",
       "      <td>{'offer id': '3f207df678b143eea3cee63160fa8bed'}</td>\n",
       "      <td>3f207df678b143eea3cee63160fa8bed</td>\n",
       "    </tr>\n",
       "    <tr>\n",
       "      <th>8</th>\n",
       "      <td>offer received</td>\n",
       "      <td>aa4862eba776480b8bb9c68455b8c2e1</td>\n",
       "      <td>0</td>\n",
       "      <td>{'offer id': '0b1e1539f2cc45b7b9fa7c272da2e1d7'}</td>\n",
       "      <td>0b1e1539f2cc45b7b9fa7c272da2e1d7</td>\n",
       "    </tr>\n",
       "  </tbody>\n",
       "</table>\n",
       "</div>"
      ],
      "text/plain": [
       "            event                       customer_id  time  \\\n",
       "0  offer received  78afa995795e4d85b5d9ceeca43f5fef     0   \n",
       "2  offer received  e2127556f4f64592b11af22de27a7932     0   \n",
       "5  offer received  389bc3fa690240e798340f5a15918d5c     0   \n",
       "7  offer received  2eeac8d8feae4a8cad5a6af0499a211d     0   \n",
       "8  offer received  aa4862eba776480b8bb9c68455b8c2e1     0   \n",
       "\n",
       "                                              value  \\\n",
       "0  {'offer id': '9b98b8c7a33c4b65b9aebfe6a799e6d9'}   \n",
       "2  {'offer id': '2906b810c7d4411798c6938adc9daaa5'}   \n",
       "5  {'offer id': 'f19421c1d4aa40978ebb69ca19b0e20d'}   \n",
       "7  {'offer id': '3f207df678b143eea3cee63160fa8bed'}   \n",
       "8  {'offer id': '0b1e1539f2cc45b7b9fa7c272da2e1d7'}   \n",
       "\n",
       "                           offer_id  \n",
       "0  9b98b8c7a33c4b65b9aebfe6a799e6d9  \n",
       "2  2906b810c7d4411798c6938adc9daaa5  \n",
       "5  f19421c1d4aa40978ebb69ca19b0e20d  \n",
       "7  3f207df678b143eea3cee63160fa8bed  \n",
       "8  0b1e1539f2cc45b7b9fa7c272da2e1d7  "
      ]
     },
     "execution_count": 54,
     "metadata": {},
     "output_type": "execute_result"
    }
   ],
   "source": [
    "offers_df.head()"
   ]
  },
  {
   "cell_type": "code",
   "execution_count": 55,
   "metadata": {},
   "outputs": [
    {
     "data": {
      "text/plain": [
       "array(['9b98b8c7a33c4b65b9aebfe6a799e6d9',\n",
       "       '2906b810c7d4411798c6938adc9daaa5',\n",
       "       'f19421c1d4aa40978ebb69ca19b0e20d',\n",
       "       '3f207df678b143eea3cee63160fa8bed',\n",
       "       '0b1e1539f2cc45b7b9fa7c272da2e1d7',\n",
       "       'ae264e3637204a6fb9bb56bc8210ddfd',\n",
       "       'fafdcd668e3743c1bb461111dcafc2a4',\n",
       "       '4d5c57ea9a6940dd891ad53e9dbe8da0',\n",
       "       '2298d6c36e964ae4a3e7e9706d1fb8c2',\n",
       "       '5a8bc65990b245e5a138643cd4eb9837'], dtype=object)"
      ]
     },
     "execution_count": 55,
     "metadata": {},
     "output_type": "execute_result"
    }
   ],
   "source": [
    "# Print unique offer_id in offers_df\n",
    "offers_df['offer_id'].unique()"
   ]
  },
  {
   "cell_type": "code",
   "execution_count": 56,
   "metadata": {},
   "outputs": [],
   "source": [
    "# Create another column 'offer_type' with respect to feature 'offer_id'\n",
    "offers_df['offer_type'] = offers_df['offer_id'].copy()\n",
    "\n",
    "\n",
    "\n",
    "offers_df['offer_type'].replace(['ae264e3637204a6fb9bb56bc8210ddfd','4d5c57ea9a6940dd891ad53e9dbe8da0',\\\n",
    "                                 '9b98b8c7a33c4b65b9aebfe6a799e6d9','f19421c1d4aa40978ebb69ca19b0e20d'],\\\n",
    "                                 'bogo', inplace=True)\n",
    "\n",
    "offers_df['offer_type'].replace(['0b1e1539f2cc45b7b9fa7c272da2e1d7','2298d6c36e964ae4a3e7e9706d1fb8c2',\\\n",
    "                                 'fafdcd668e3743c1bb461111dcafc2a4','2906b810c7d4411798c6938adc9daaa5'],\\\n",
    "                                 'discount', inplace=True)\n",
    "\n",
    "offers_df['offer_type'].replace(['3f207df678b143eea3cee63160fa8bed','5a8bc65990b245e5a138643cd4eb9837'],\\\n",
    "                                 'informational', inplace=True)"
   ]
  },
  {
   "cell_type": "code",
   "execution_count": 57,
   "metadata": {},
   "outputs": [
    {
     "data": {
      "text/html": [
       "<div>\n",
       "<style scoped>\n",
       "    .dataframe tbody tr th:only-of-type {\n",
       "        vertical-align: middle;\n",
       "    }\n",
       "\n",
       "    .dataframe tbody tr th {\n",
       "        vertical-align: top;\n",
       "    }\n",
       "\n",
       "    .dataframe thead th {\n",
       "        text-align: right;\n",
       "    }\n",
       "</style>\n",
       "<table border=\"1\" class=\"dataframe\">\n",
       "  <thead>\n",
       "    <tr style=\"text-align: right;\">\n",
       "      <th></th>\n",
       "      <th>event</th>\n",
       "      <th>customer_id</th>\n",
       "      <th>time</th>\n",
       "      <th>value</th>\n",
       "      <th>offer_id</th>\n",
       "      <th>offer_type</th>\n",
       "    </tr>\n",
       "  </thead>\n",
       "  <tbody>\n",
       "    <tr>\n",
       "      <th>0</th>\n",
       "      <td>offer received</td>\n",
       "      <td>78afa995795e4d85b5d9ceeca43f5fef</td>\n",
       "      <td>0</td>\n",
       "      <td>{'offer id': '9b98b8c7a33c4b65b9aebfe6a799e6d9'}</td>\n",
       "      <td>9b98b8c7a33c4b65b9aebfe6a799e6d9</td>\n",
       "      <td>bogo</td>\n",
       "    </tr>\n",
       "    <tr>\n",
       "      <th>2</th>\n",
       "      <td>offer received</td>\n",
       "      <td>e2127556f4f64592b11af22de27a7932</td>\n",
       "      <td>0</td>\n",
       "      <td>{'offer id': '2906b810c7d4411798c6938adc9daaa5'}</td>\n",
       "      <td>2906b810c7d4411798c6938adc9daaa5</td>\n",
       "      <td>discount</td>\n",
       "    </tr>\n",
       "    <tr>\n",
       "      <th>5</th>\n",
       "      <td>offer received</td>\n",
       "      <td>389bc3fa690240e798340f5a15918d5c</td>\n",
       "      <td>0</td>\n",
       "      <td>{'offer id': 'f19421c1d4aa40978ebb69ca19b0e20d'}</td>\n",
       "      <td>f19421c1d4aa40978ebb69ca19b0e20d</td>\n",
       "      <td>bogo</td>\n",
       "    </tr>\n",
       "    <tr>\n",
       "      <th>7</th>\n",
       "      <td>offer received</td>\n",
       "      <td>2eeac8d8feae4a8cad5a6af0499a211d</td>\n",
       "      <td>0</td>\n",
       "      <td>{'offer id': '3f207df678b143eea3cee63160fa8bed'}</td>\n",
       "      <td>3f207df678b143eea3cee63160fa8bed</td>\n",
       "      <td>informational</td>\n",
       "    </tr>\n",
       "    <tr>\n",
       "      <th>8</th>\n",
       "      <td>offer received</td>\n",
       "      <td>aa4862eba776480b8bb9c68455b8c2e1</td>\n",
       "      <td>0</td>\n",
       "      <td>{'offer id': '0b1e1539f2cc45b7b9fa7c272da2e1d7'}</td>\n",
       "      <td>0b1e1539f2cc45b7b9fa7c272da2e1d7</td>\n",
       "      <td>discount</td>\n",
       "    </tr>\n",
       "  </tbody>\n",
       "</table>\n",
       "</div>"
      ],
      "text/plain": [
       "            event                       customer_id  time  \\\n",
       "0  offer received  78afa995795e4d85b5d9ceeca43f5fef     0   \n",
       "2  offer received  e2127556f4f64592b11af22de27a7932     0   \n",
       "5  offer received  389bc3fa690240e798340f5a15918d5c     0   \n",
       "7  offer received  2eeac8d8feae4a8cad5a6af0499a211d     0   \n",
       "8  offer received  aa4862eba776480b8bb9c68455b8c2e1     0   \n",
       "\n",
       "                                              value  \\\n",
       "0  {'offer id': '9b98b8c7a33c4b65b9aebfe6a799e6d9'}   \n",
       "2  {'offer id': '2906b810c7d4411798c6938adc9daaa5'}   \n",
       "5  {'offer id': 'f19421c1d4aa40978ebb69ca19b0e20d'}   \n",
       "7  {'offer id': '3f207df678b143eea3cee63160fa8bed'}   \n",
       "8  {'offer id': '0b1e1539f2cc45b7b9fa7c272da2e1d7'}   \n",
       "\n",
       "                           offer_id     offer_type  \n",
       "0  9b98b8c7a33c4b65b9aebfe6a799e6d9           bogo  \n",
       "2  2906b810c7d4411798c6938adc9daaa5       discount  \n",
       "5  f19421c1d4aa40978ebb69ca19b0e20d           bogo  \n",
       "7  3f207df678b143eea3cee63160fa8bed  informational  \n",
       "8  0b1e1539f2cc45b7b9fa7c272da2e1d7       discount  "
      ]
     },
     "execution_count": 57,
     "metadata": {},
     "output_type": "execute_result"
    }
   ],
   "source": [
    "offers_df.head()"
   ]
  },
  {
   "cell_type": "code",
   "execution_count": 58,
   "metadata": {},
   "outputs": [],
   "source": [
    "# Drop feature value as it is not required now and drop feature offer_type as that information is also in portfolio dataframe\n",
    "offers_df.drop(columns=['value', 'offer_type'], inplace=True)\n",
    "\n",
    "# OneHotEncoding feature 'event'\n",
    "offers_df = pd.get_dummies(offers_df, columns=['event'], prefix='', prefix_sep='')\n",
    "\n",
    "# Reorder columns of offers_df dataframe\n",
    "col_order = ['customer_id', 'offer_id', 'time', 'offer received', 'offer viewed', 'offer completed']\n",
    "offers_df = offers_df.reindex(col_order, axis=1)"
   ]
  },
  {
   "cell_type": "code",
   "execution_count": 59,
   "metadata": {},
   "outputs": [
    {
     "data": {
      "text/html": [
       "<div>\n",
       "<style scoped>\n",
       "    .dataframe tbody tr th:only-of-type {\n",
       "        vertical-align: middle;\n",
       "    }\n",
       "\n",
       "    .dataframe tbody tr th {\n",
       "        vertical-align: top;\n",
       "    }\n",
       "\n",
       "    .dataframe thead th {\n",
       "        text-align: right;\n",
       "    }\n",
       "</style>\n",
       "<table border=\"1\" class=\"dataframe\">\n",
       "  <thead>\n",
       "    <tr style=\"text-align: right;\">\n",
       "      <th></th>\n",
       "      <th>customer_id</th>\n",
       "      <th>offer_id</th>\n",
       "      <th>time</th>\n",
       "      <th>offer received</th>\n",
       "      <th>offer viewed</th>\n",
       "      <th>offer completed</th>\n",
       "    </tr>\n",
       "  </thead>\n",
       "  <tbody>\n",
       "    <tr>\n",
       "      <th>0</th>\n",
       "      <td>78afa995795e4d85b5d9ceeca43f5fef</td>\n",
       "      <td>9b98b8c7a33c4b65b9aebfe6a799e6d9</td>\n",
       "      <td>0</td>\n",
       "      <td>1</td>\n",
       "      <td>0</td>\n",
       "      <td>0</td>\n",
       "    </tr>\n",
       "    <tr>\n",
       "      <th>2</th>\n",
       "      <td>e2127556f4f64592b11af22de27a7932</td>\n",
       "      <td>2906b810c7d4411798c6938adc9daaa5</td>\n",
       "      <td>0</td>\n",
       "      <td>1</td>\n",
       "      <td>0</td>\n",
       "      <td>0</td>\n",
       "    </tr>\n",
       "    <tr>\n",
       "      <th>5</th>\n",
       "      <td>389bc3fa690240e798340f5a15918d5c</td>\n",
       "      <td>f19421c1d4aa40978ebb69ca19b0e20d</td>\n",
       "      <td>0</td>\n",
       "      <td>1</td>\n",
       "      <td>0</td>\n",
       "      <td>0</td>\n",
       "    </tr>\n",
       "    <tr>\n",
       "      <th>7</th>\n",
       "      <td>2eeac8d8feae4a8cad5a6af0499a211d</td>\n",
       "      <td>3f207df678b143eea3cee63160fa8bed</td>\n",
       "      <td>0</td>\n",
       "      <td>1</td>\n",
       "      <td>0</td>\n",
       "      <td>0</td>\n",
       "    </tr>\n",
       "    <tr>\n",
       "      <th>8</th>\n",
       "      <td>aa4862eba776480b8bb9c68455b8c2e1</td>\n",
       "      <td>0b1e1539f2cc45b7b9fa7c272da2e1d7</td>\n",
       "      <td>0</td>\n",
       "      <td>1</td>\n",
       "      <td>0</td>\n",
       "      <td>0</td>\n",
       "    </tr>\n",
       "  </tbody>\n",
       "</table>\n",
       "</div>"
      ],
      "text/plain": [
       "                        customer_id                          offer_id  time  \\\n",
       "0  78afa995795e4d85b5d9ceeca43f5fef  9b98b8c7a33c4b65b9aebfe6a799e6d9     0   \n",
       "2  e2127556f4f64592b11af22de27a7932  2906b810c7d4411798c6938adc9daaa5     0   \n",
       "5  389bc3fa690240e798340f5a15918d5c  f19421c1d4aa40978ebb69ca19b0e20d     0   \n",
       "7  2eeac8d8feae4a8cad5a6af0499a211d  3f207df678b143eea3cee63160fa8bed     0   \n",
       "8  aa4862eba776480b8bb9c68455b8c2e1  0b1e1539f2cc45b7b9fa7c272da2e1d7     0   \n",
       "\n",
       "   offer received  offer viewed  offer completed  \n",
       "0               1             0                0  \n",
       "2               1             0                0  \n",
       "5               1             0                0  \n",
       "7               1             0                0  \n",
       "8               1             0                0  "
      ]
     },
     "execution_count": 59,
     "metadata": {},
     "output_type": "execute_result"
    }
   ],
   "source": [
    "offers_df.head()"
   ]
  },
  {
   "cell_type": "code",
   "execution_count": 60,
   "metadata": {},
   "outputs": [],
   "source": [
    "# Create column 'amount' in the dataframe transaction_df\n",
    "transaction_df['amount'] = transaction_df['value'].apply(lambda x: x['amount'])"
   ]
  },
  {
   "cell_type": "code",
   "execution_count": 61,
   "metadata": {},
   "outputs": [],
   "source": [
    "# Drop'event' and 'value' features\n",
    "transaction_df.drop(columns=['event', 'value'], inplace=True)"
   ]
  },
  {
   "cell_type": "code",
   "execution_count": 62,
   "metadata": {},
   "outputs": [
    {
     "data": {
      "text/html": [
       "<div>\n",
       "<style scoped>\n",
       "    .dataframe tbody tr th:only-of-type {\n",
       "        vertical-align: middle;\n",
       "    }\n",
       "\n",
       "    .dataframe tbody tr th {\n",
       "        vertical-align: top;\n",
       "    }\n",
       "\n",
       "    .dataframe thead th {\n",
       "        text-align: right;\n",
       "    }\n",
       "</style>\n",
       "<table border=\"1\" class=\"dataframe\">\n",
       "  <thead>\n",
       "    <tr style=\"text-align: right;\">\n",
       "      <th></th>\n",
       "      <th>customer_id</th>\n",
       "      <th>time</th>\n",
       "      <th>amount</th>\n",
       "    </tr>\n",
       "  </thead>\n",
       "  <tbody>\n",
       "    <tr>\n",
       "      <th>12654</th>\n",
       "      <td>02c083884c7d45b39cc68e1314fec56c</td>\n",
       "      <td>0</td>\n",
       "      <td>0.83</td>\n",
       "    </tr>\n",
       "    <tr>\n",
       "      <th>12657</th>\n",
       "      <td>9fa9ae8f57894cc9a3b8a9bbe0fc1b2f</td>\n",
       "      <td>0</td>\n",
       "      <td>34.56</td>\n",
       "    </tr>\n",
       "    <tr>\n",
       "      <th>12659</th>\n",
       "      <td>54890f68699049c2a04d415abc25e717</td>\n",
       "      <td>0</td>\n",
       "      <td>13.23</td>\n",
       "    </tr>\n",
       "    <tr>\n",
       "      <th>12670</th>\n",
       "      <td>b2f1cd155b864803ad8334cdf13c4bd2</td>\n",
       "      <td>0</td>\n",
       "      <td>19.51</td>\n",
       "    </tr>\n",
       "    <tr>\n",
       "      <th>12671</th>\n",
       "      <td>fe97aa22dd3e48c8b143116a8403dd52</td>\n",
       "      <td>0</td>\n",
       "      <td>18.97</td>\n",
       "    </tr>\n",
       "  </tbody>\n",
       "</table>\n",
       "</div>"
      ],
      "text/plain": [
       "                            customer_id  time  amount\n",
       "12654  02c083884c7d45b39cc68e1314fec56c     0    0.83\n",
       "12657  9fa9ae8f57894cc9a3b8a9bbe0fc1b2f     0   34.56\n",
       "12659  54890f68699049c2a04d415abc25e717     0   13.23\n",
       "12670  b2f1cd155b864803ad8334cdf13c4bd2     0   19.51\n",
       "12671  fe97aa22dd3e48c8b143116a8403dd52     0   18.97"
      ]
     },
     "execution_count": 62,
     "metadata": {},
     "output_type": "execute_result"
    }
   ],
   "source": [
    "transaction_df.head()"
   ]
  },
  {
   "cell_type": "markdown",
   "metadata": {},
   "source": [
    "### 1.4 Combined data (clean_portfolip & clean_profile & offers_df & transaction_df)"
   ]
  },
  {
   "cell_type": "code",
   "execution_count": 127,
   "metadata": {},
   "outputs": [],
   "source": [
    "# Create function to combine transaction, offer, portfolio and profile datasets\n",
    "def create_combined_data(portfolio, profile, offers_df, transaction_df):\n",
    "    \n",
    "    \n",
    "    '''Create a combined dataframe from the transaction, demographic and offer data:\n",
    "    INPUT:\n",
    "        portfolio - (dataframe),offer metadata\n",
    "        profile - (dataframe),customer demographic data\n",
    "        offers_df - (dataframe), offers data for customers\n",
    "        transaction_df - (dataframe), transaction data for customers\n",
    "    OUTPUT:\n",
    "        combined_data_df - (dataframe),combined data from transaction, demographic and offer data\n",
    "    '''\n",
    "    \n",
    "    combined_data = [] # Initialize empty list for combined data\n",
    "    customer_id_list = offers_df['customer_id'].unique().tolist() # List of unique customers in offers_df\n",
    "        \n",
    "\n",
    "    # Iterate over each customer\n",
    "    for i,cust_id in enumerate(customer_id_list):\n",
    "            \n",
    "        # select customer profile from profile data\n",
    "        cust_profile = clean_profile[clean_profile['customer_id'] == cust_id] \n",
    "        \n",
    "        # select offers associated with the customer from offers_df\n",
    "        cust_offers_data = offers_df[offers_df['customer_id'] == cust_id]\n",
    "        \n",
    "        # select transactions associated with the customer from transactions_df\n",
    "        cust_transaction_df = transaction_df[transaction_df['customer_id'] == cust_id]\n",
    "        \n",
    "        # select received, completed, viewed offer data from customer offers\n",
    "        offer_received_data  = cust_offers_data[cust_offers_data['offer received'] == 1]\n",
    "        offer_viewed_data = cust_offers_data[cust_offers_data['offer viewed'] == 1]\n",
    "        offer_completed_data = cust_offers_data[cust_offers_data['offer completed'] == 1]\n",
    "            \n",
    "        # Iterate over each offer received by a customer\n",
    "        rows = [] # Initialize empty list for a customer records\n",
    "            \n",
    "        for off_id in offer_received_data['offer_id'].values.tolist():\n",
    "            \n",
    "            # select duration of a particular offer_id\n",
    "            duration = clean_portfolio.loc[clean_portfolio['offer_id'] == off_id, 'duration'].values[0]\n",
    "            \n",
    "            # select the time when offer was received\n",
    "            off_recd_time = offer_received_data.loc[offer_received_data['offer_id'] == off_id, 'time'].values[0]\n",
    "            \n",
    "            # Calculate the time when the offer ends\n",
    "            off_end_time = off_recd_time + duration\n",
    "            \n",
    "            #Initialize a boolean array that determines if the customer viewed an offer between offer period\n",
    "            offers_viewed = np.logical_and(offer_viewed_data['time'] >= off_recd_time,offer_viewed_data['time'] <= off_end_time)\n",
    "                \n",
    "            # Check if the offer type is 'bogo' or 'discount'\n",
    "            if (clean_portfolio[clean_portfolio['offer_id'] == off_id]['bogo'].values[0] == 1 or\\\n",
    "                    clean_portfolio[clean_portfolio['offer_id'] == off_id]['discount'].values[0] == 1):\n",
    "                \n",
    "                #Initialize a boolean array that determines if the customer completed an offer between offer period\n",
    "                offers_comp = np.logical_and(offer_completed_data ['time'] >= off_recd_time,\\\n",
    "                                                 offer_completed_data ['time'] <= off_end_time)\n",
    "                    \n",
    "                #Initialize a boolean array that selects customer transctions between offer period\n",
    "                cust_tran_within_period = cust_transaction_df[np.logical_and(cust_transaction_df['time'] >= off_recd_time,\\\n",
    "                                                                                 cust_transaction_df['time'] <= off_end_time)]\n",
    "                    \n",
    "                # Determine if the customer responded to an offer(bogo or discount) or not\n",
    "                cust_response = np.logical_and(offers_viewed.sum() > 0, offers_comp.sum() > 0) and\\\n",
    "                                                    (cust_tran_within_period['amount'].sum() >=\\\n",
    "                                                     clean_portfolio[clean_portfolio['offer_id'] == off_id]['difficulty'].values[0])\n",
    "                \n",
    "            # Check if the offer type is 'informational'\n",
    "            elif clean_portfolio[clean_portfolio['offer_id'] == off_id]['informational'].values[0] == 1:\n",
    "                \n",
    "                #Initialize a boolean array that determines if the customer made any transctions between offer period\n",
    "                cust_info_tran = np.logical_and(cust_transaction_df['time'] >= off_recd_time,\\\n",
    "                                                    cust_transaction_df['time'] <= off_end_time)                   \n",
    "                    \n",
    "                # Determine if the customer responded to an offer(informational) or not\n",
    "                cust_response = offers_viewed.sum() > 0 and cust_info_tran.sum() > 0                  \n",
    "                \n",
    "                #Initialize a boolean array that selects customer transctions between offer period\n",
    "                cust_tran_within_period = cust_transaction_df[np.logical_and(cust_transaction_df['time'] >= off_recd_time,\\\n",
    "                                                                                 cust_transaction_df['time'] <= off_end_time)]\n",
    "                \n",
    "            # Initialize a dictionary for a customer with required information for a particular offer\n",
    "            cust_rec = {'cust_response': int(cust_response),'time': off_recd_time,'total_amount': cust_tran_within_period['amount'].sum()}\n",
    "            cust_rec.update(clean_profile[clean_profile['customer_id'] == cust_id].squeeze().to_dict())\n",
    "            cust_rec.update(clean_portfolio[clean_portfolio['offer_id'] == off_id].squeeze().to_dict())\n",
    "                \n",
    "            # Add the dictionary to list for combined_data\n",
    "            rows.append(cust_rec)\n",
    "            \n",
    "        # Add the dictionaries from rows list to combined_data list\n",
    "        combined_data.extend(rows)\n",
    "            \n",
    "        \n",
    "    # Convert combined_data list to dataframe\n",
    "    combined_data_df = pd.DataFrame(combined_data)\n",
    "        \n",
    "    # Reorder columns of combined_data_df\n",
    "    combined_data_df_col_order = ['customer_id', 'offer_id', 'time']\n",
    "\n",
    "    port_ls = clean_portfolio.columns.tolist()\n",
    "    port_ls.remove('offer_id')\n",
    "    pro_ls = clean_profile.columns.tolist()\n",
    "    pro_ls.remove('customer_id')\n",
    "    combined_data_df_col_order.extend(port_ls)\n",
    "    combined_data_df_col_order.extend(pro_ls)\n",
    "    combined_data_df_col_order.extend(['total_amount', 'cust_response'])\n",
    "        \n",
    "    combined_data_df = combined_data_df.reindex(combined_data_df_col_order, axis=1)\n",
    "    combined_data_df.to_csv('combined_data2.csv', index=False)\n",
    "    return combined_data_df"
   ]
  },
  {
   "cell_type": "code",
   "execution_count": 128,
   "metadata": {},
   "outputs": [],
   "source": [
    "# Create function to combine transaction, offer, portfolio and profile datasets\n",
    "combined_data_df = create_combined_data(portfolio, profile, offers_df, transaction_df)"
   ]
  },
  {
   "cell_type": "code",
   "execution_count": 63,
   "metadata": {},
   "outputs": [],
   "source": [
    "# read csv file where we put our combined data\n",
    "combined_data_df=pd.read_csv('combined_data2.csv')"
   ]
  },
  {
   "cell_type": "code",
   "execution_count": 72,
   "metadata": {},
   "outputs": [
    {
     "data": {
      "text/html": [
       "<div>\n",
       "<style scoped>\n",
       "    .dataframe tbody tr th:only-of-type {\n",
       "        vertical-align: middle;\n",
       "    }\n",
       "\n",
       "    .dataframe tbody tr th {\n",
       "        vertical-align: top;\n",
       "    }\n",
       "\n",
       "    .dataframe thead th {\n",
       "        text-align: right;\n",
       "    }\n",
       "</style>\n",
       "<table border=\"1\" class=\"dataframe\">\n",
       "  <thead>\n",
       "    <tr style=\"text-align: right;\">\n",
       "      <th></th>\n",
       "      <th>customer_id</th>\n",
       "      <th>offer_id</th>\n",
       "      <th>time</th>\n",
       "      <th>difficulty</th>\n",
       "      <th>duration</th>\n",
       "      <th>reward</th>\n",
       "      <th>email</th>\n",
       "      <th>mobile</th>\n",
       "      <th>social</th>\n",
       "      <th>web</th>\n",
       "      <th>...</th>\n",
       "      <th>income_50ths</th>\n",
       "      <th>income_60ths</th>\n",
       "      <th>income_70ths</th>\n",
       "      <th>income_80ths</th>\n",
       "      <th>income_90ths</th>\n",
       "      <th>income_100ths</th>\n",
       "      <th>income_110ths</th>\n",
       "      <th>income_120ths</th>\n",
       "      <th>total_amount</th>\n",
       "      <th>cust_response</th>\n",
       "    </tr>\n",
       "  </thead>\n",
       "  <tbody>\n",
       "    <tr>\n",
       "      <th>0</th>\n",
       "      <td>78afa995795e4d85b5d9ceeca43f5fef</td>\n",
       "      <td>9b98b8c7a33c4b65b9aebfe6a799e6d9</td>\n",
       "      <td>0</td>\n",
       "      <td>5</td>\n",
       "      <td>168</td>\n",
       "      <td>5</td>\n",
       "      <td>1</td>\n",
       "      <td>1</td>\n",
       "      <td>0</td>\n",
       "      <td>1</td>\n",
       "      <td>...</td>\n",
       "      <td>0</td>\n",
       "      <td>0</td>\n",
       "      <td>0</td>\n",
       "      <td>0</td>\n",
       "      <td>0</td>\n",
       "      <td>1</td>\n",
       "      <td>0</td>\n",
       "      <td>0</td>\n",
       "      <td>37.67</td>\n",
       "      <td>1</td>\n",
       "    </tr>\n",
       "    <tr>\n",
       "      <th>1</th>\n",
       "      <td>78afa995795e4d85b5d9ceeca43f5fef</td>\n",
       "      <td>5a8bc65990b245e5a138643cd4eb9837</td>\n",
       "      <td>168</td>\n",
       "      <td>0</td>\n",
       "      <td>72</td>\n",
       "      <td>0</td>\n",
       "      <td>1</td>\n",
       "      <td>1</td>\n",
       "      <td>1</td>\n",
       "      <td>0</td>\n",
       "      <td>...</td>\n",
       "      <td>0</td>\n",
       "      <td>0</td>\n",
       "      <td>0</td>\n",
       "      <td>0</td>\n",
       "      <td>0</td>\n",
       "      <td>1</td>\n",
       "      <td>0</td>\n",
       "      <td>0</td>\n",
       "      <td>49.39</td>\n",
       "      <td>1</td>\n",
       "    </tr>\n",
       "    <tr>\n",
       "      <th>2</th>\n",
       "      <td>78afa995795e4d85b5d9ceeca43f5fef</td>\n",
       "      <td>ae264e3637204a6fb9bb56bc8210ddfd</td>\n",
       "      <td>408</td>\n",
       "      <td>10</td>\n",
       "      <td>168</td>\n",
       "      <td>10</td>\n",
       "      <td>1</td>\n",
       "      <td>1</td>\n",
       "      <td>1</td>\n",
       "      <td>0</td>\n",
       "      <td>...</td>\n",
       "      <td>0</td>\n",
       "      <td>0</td>\n",
       "      <td>0</td>\n",
       "      <td>0</td>\n",
       "      <td>0</td>\n",
       "      <td>1</td>\n",
       "      <td>0</td>\n",
       "      <td>0</td>\n",
       "      <td>48.28</td>\n",
       "      <td>1</td>\n",
       "    </tr>\n",
       "    <tr>\n",
       "      <th>3</th>\n",
       "      <td>78afa995795e4d85b5d9ceeca43f5fef</td>\n",
       "      <td>f19421c1d4aa40978ebb69ca19b0e20d</td>\n",
       "      <td>504</td>\n",
       "      <td>5</td>\n",
       "      <td>120</td>\n",
       "      <td>5</td>\n",
       "      <td>1</td>\n",
       "      <td>1</td>\n",
       "      <td>1</td>\n",
       "      <td>1</td>\n",
       "      <td>...</td>\n",
       "      <td>0</td>\n",
       "      <td>0</td>\n",
       "      <td>0</td>\n",
       "      <td>0</td>\n",
       "      <td>0</td>\n",
       "      <td>1</td>\n",
       "      <td>0</td>\n",
       "      <td>0</td>\n",
       "      <td>48.28</td>\n",
       "      <td>1</td>\n",
       "    </tr>\n",
       "    <tr>\n",
       "      <th>4</th>\n",
       "      <td>e2127556f4f64592b11af22de27a7932</td>\n",
       "      <td>2906b810c7d4411798c6938adc9daaa5</td>\n",
       "      <td>0</td>\n",
       "      <td>10</td>\n",
       "      <td>168</td>\n",
       "      <td>2</td>\n",
       "      <td>1</td>\n",
       "      <td>1</td>\n",
       "      <td>0</td>\n",
       "      <td>1</td>\n",
       "      <td>...</td>\n",
       "      <td>0</td>\n",
       "      <td>0</td>\n",
       "      <td>1</td>\n",
       "      <td>0</td>\n",
       "      <td>0</td>\n",
       "      <td>0</td>\n",
       "      <td>0</td>\n",
       "      <td>0</td>\n",
       "      <td>0.00</td>\n",
       "      <td>0</td>\n",
       "    </tr>\n",
       "  </tbody>\n",
       "</table>\n",
       "<p>5 rows × 64 columns</p>\n",
       "</div>"
      ],
      "text/plain": [
       "                        customer_id                          offer_id  time  \\\n",
       "0  78afa995795e4d85b5d9ceeca43f5fef  9b98b8c7a33c4b65b9aebfe6a799e6d9     0   \n",
       "1  78afa995795e4d85b5d9ceeca43f5fef  5a8bc65990b245e5a138643cd4eb9837   168   \n",
       "2  78afa995795e4d85b5d9ceeca43f5fef  ae264e3637204a6fb9bb56bc8210ddfd   408   \n",
       "3  78afa995795e4d85b5d9ceeca43f5fef  f19421c1d4aa40978ebb69ca19b0e20d   504   \n",
       "4  e2127556f4f64592b11af22de27a7932  2906b810c7d4411798c6938adc9daaa5     0   \n",
       "\n",
       "   difficulty  duration  reward  email  mobile  social  web      ...        \\\n",
       "0           5       168       5      1       1       0    1      ...         \n",
       "1           0        72       0      1       1       1    0      ...         \n",
       "2          10       168      10      1       1       1    0      ...         \n",
       "3           5       120       5      1       1       1    1      ...         \n",
       "4          10       168       2      1       1       0    1      ...         \n",
       "\n",
       "   income_50ths  income_60ths  income_70ths income_80ths  income_90ths  \\\n",
       "0             0             0             0            0             0   \n",
       "1             0             0             0            0             0   \n",
       "2             0             0             0            0             0   \n",
       "3             0             0             0            0             0   \n",
       "4             0             0             1            0             0   \n",
       "\n",
       "  income_100ths  income_110ths  income_120ths  total_amount  cust_response  \n",
       "0             1              0              0         37.67              1  \n",
       "1             1              0              0         49.39              1  \n",
       "2             1              0              0         48.28              1  \n",
       "3             1              0              0         48.28              1  \n",
       "4             0              0              0          0.00              0  \n",
       "\n",
       "[5 rows x 64 columns]"
      ]
     },
     "execution_count": 72,
     "metadata": {},
     "output_type": "execute_result"
    }
   ],
   "source": [
    "# show the first 5 rows of combined data\n",
    "combined_data_df.head()"
   ]
  },
  {
   "cell_type": "code",
   "execution_count": 74,
   "metadata": {},
   "outputs": [
    {
     "data": {
      "text/plain": [
       "Index(['customer_id', 'offer_id', 'time', 'difficulty', 'duration', 'reward',\n",
       "       'email', 'mobile', 'social', 'web', 'bogo', 'discount', 'informational',\n",
       "       'gender', 'income', 'age_by_decade', 'became_member_year',\n",
       "       'became_member_month', 'became_member_day', 'became_member_tenure',\n",
       "       'income_by_range', 'F', 'M', 'O', 'age_10s', 'age_20s', 'age_30s',\n",
       "       'age_40s', 'age_50s', 'age_60s', 'age_70s', 'age_80s', 'age_90s',\n",
       "       'age_100s', '2013', '2014', '2015', '2016', '2017', '2018', 'month_1',\n",
       "       'month_2', 'month_3', 'month_4', 'month_5', 'month_6', 'month_7',\n",
       "       'month_8', 'month_9', 'month_10', 'month_11', 'month_12',\n",
       "       'income_30ths', 'income_40ths', 'income_50ths', 'income_60ths',\n",
       "       'income_70ths', 'income_80ths', 'income_90ths', 'income_100ths',\n",
       "       'income_110ths', 'income_120ths', 'total_amount', 'cust_response'],\n",
       "      dtype='object')"
      ]
     },
     "execution_count": 74,
     "metadata": {},
     "output_type": "execute_result"
    }
   ],
   "source": [
    "# show the columns of data\n",
    "combined_data_df.columns"
   ]
  },
  {
   "cell_type": "code",
   "execution_count": 75,
   "metadata": {},
   "outputs": [],
   "source": [
    "def calculate_percentage_success():\n",
    "    \n",
    "    '''Create dataframe offer_success with features offer_id, success_pourcentage and offer_type\n",
    "\n",
    "    OUTPUT:\n",
    "        offer_response - (dataframe), with the features offer_id, success_pourcentage and offer_type\n",
    "    '''\n",
    "    \n",
    "    # \n",
    "    offer_response = combined_data_df.groupby(['offer_id'])['cust_response'].count().reset_index()\n",
    "    offer_response.rename(columns={'cust_response': 'count'}, inplace=True)\n",
    "    success_pourcentage = combined_data_df.groupby(['offer_id'])['cust_response'].sum()/\\\n",
    "                combined_data_df.groupby(['offer_id'])['cust_response'].count()\n",
    "    np.round(success_pourcentage.values*100,2)\n",
    "    offer_response['success_pourcentage'] = np.round(success_pourcentage.values*100,2)                                  \n",
    "    offer_response['offer_type'] = offer_response['offer_id'].map({'ae264e3637204a6fb9bb56bc8210ddfd': 'bogo',\\\n",
    "                                                               '4d5c57ea9a6940dd891ad53e9dbe8da0': 'bogo',\\\n",
    "                                                               '3f207df678b143eea3cee63160fa8bed': 'informational',\\\n",
    "                                                               '9b98b8c7a33c4b65b9aebfe6a799e6d9': 'bogo',\\\n",
    "                                                               '0b1e1539f2cc45b7b9fa7c272da2e1d7': 'discount',\\\n",
    "                                                               '2298d6c36e964ae4a3e7e9706d1fb8c2': 'discount',\\\n",
    "                                                               'fafdcd668e3743c1bb461111dcafc2a4': 'discount',\\\n",
    "                                                               '5a8bc65990b245e5a138643cd4eb9837': 'informational',\\\n",
    "                                                               'f19421c1d4aa40978ebb69ca19b0e20d': 'bogo',\\\n",
    "                                                               '2906b810c7d4411798c6938adc9daaa5': 'discount'})\n",
    "\n",
    "    offer_response=offer_response.sort_values(by=['success_pourcentage'], ascending=False)\n",
    "    return offer_response"
   ]
  },
  {
   "cell_type": "code",
   "execution_count": 76,
   "metadata": {},
   "outputs": [],
   "source": [
    "# Create dataframe offer_success with features offer_id, success_pourcentage and offer_type\n",
    "offer_response_df=calculate_percentage_success()"
   ]
  },
  {
   "cell_type": "code",
   "execution_count": 77,
   "metadata": {},
   "outputs": [
    {
     "data": {
      "text/html": [
       "<div>\n",
       "<style scoped>\n",
       "    .dataframe tbody tr th:only-of-type {\n",
       "        vertical-align: middle;\n",
       "    }\n",
       "\n",
       "    .dataframe tbody tr th {\n",
       "        vertical-align: top;\n",
       "    }\n",
       "\n",
       "    .dataframe thead th {\n",
       "        text-align: right;\n",
       "    }\n",
       "</style>\n",
       "<table border=\"1\" class=\"dataframe\">\n",
       "  <thead>\n",
       "    <tr style=\"text-align: right;\">\n",
       "      <th></th>\n",
       "      <th>offer_id</th>\n",
       "      <th>count</th>\n",
       "      <th>success_pourcentage</th>\n",
       "      <th>offer_type</th>\n",
       "    </tr>\n",
       "  </thead>\n",
       "  <tbody>\n",
       "    <tr>\n",
       "      <th>9</th>\n",
       "      <td>fafdcd668e3743c1bb461111dcafc2a4</td>\n",
       "      <td>6652</td>\n",
       "      <td>75.20</td>\n",
       "      <td>discount</td>\n",
       "    </tr>\n",
       "    <tr>\n",
       "      <th>1</th>\n",
       "      <td>2298d6c36e964ae4a3e7e9706d1fb8c2</td>\n",
       "      <td>6655</td>\n",
       "      <td>72.28</td>\n",
       "      <td>discount</td>\n",
       "    </tr>\n",
       "    <tr>\n",
       "      <th>8</th>\n",
       "      <td>f19421c1d4aa40978ebb69ca19b0e20d</td>\n",
       "      <td>6576</td>\n",
       "      <td>60.74</td>\n",
       "      <td>bogo</td>\n",
       "    </tr>\n",
       "    <tr>\n",
       "      <th>5</th>\n",
       "      <td>5a8bc65990b245e5a138643cd4eb9837</td>\n",
       "      <td>6643</td>\n",
       "      <td>54.72</td>\n",
       "      <td>informational</td>\n",
       "    </tr>\n",
       "    <tr>\n",
       "      <th>7</th>\n",
       "      <td>ae264e3637204a6fb9bb56bc8210ddfd</td>\n",
       "      <td>6683</td>\n",
       "      <td>53.25</td>\n",
       "      <td>bogo</td>\n",
       "    </tr>\n",
       "    <tr>\n",
       "      <th>4</th>\n",
       "      <td>4d5c57ea9a6940dd891ad53e9dbe8da0</td>\n",
       "      <td>6593</td>\n",
       "      <td>49.98</td>\n",
       "      <td>bogo</td>\n",
       "    </tr>\n",
       "    <tr>\n",
       "      <th>2</th>\n",
       "      <td>2906b810c7d4411798c6938adc9daaa5</td>\n",
       "      <td>6631</td>\n",
       "      <td>47.29</td>\n",
       "      <td>discount</td>\n",
       "    </tr>\n",
       "    <tr>\n",
       "      <th>6</th>\n",
       "      <td>9b98b8c7a33c4b65b9aebfe6a799e6d9</td>\n",
       "      <td>6685</td>\n",
       "      <td>47.28</td>\n",
       "      <td>bogo</td>\n",
       "    </tr>\n",
       "    <tr>\n",
       "      <th>0</th>\n",
       "      <td>0b1e1539f2cc45b7b9fa7c272da2e1d7</td>\n",
       "      <td>6726</td>\n",
       "      <td>41.85</td>\n",
       "      <td>discount</td>\n",
       "    </tr>\n",
       "    <tr>\n",
       "      <th>3</th>\n",
       "      <td>3f207df678b143eea3cee63160fa8bed</td>\n",
       "      <td>6657</td>\n",
       "      <td>36.76</td>\n",
       "      <td>informational</td>\n",
       "    </tr>\n",
       "  </tbody>\n",
       "</table>\n",
       "</div>"
      ],
      "text/plain": [
       "                           offer_id  count  success_pourcentage     offer_type\n",
       "9  fafdcd668e3743c1bb461111dcafc2a4   6652                75.20       discount\n",
       "1  2298d6c36e964ae4a3e7e9706d1fb8c2   6655                72.28       discount\n",
       "8  f19421c1d4aa40978ebb69ca19b0e20d   6576                60.74           bogo\n",
       "5  5a8bc65990b245e5a138643cd4eb9837   6643                54.72  informational\n",
       "7  ae264e3637204a6fb9bb56bc8210ddfd   6683                53.25           bogo\n",
       "4  4d5c57ea9a6940dd891ad53e9dbe8da0   6593                49.98           bogo\n",
       "2  2906b810c7d4411798c6938adc9daaa5   6631                47.29       discount\n",
       "6  9b98b8c7a33c4b65b9aebfe6a799e6d9   6685                47.28           bogo\n",
       "0  0b1e1539f2cc45b7b9fa7c272da2e1d7   6726                41.85       discount\n",
       "3  3f207df678b143eea3cee63160fa8bed   6657                36.76  informational"
      ]
     },
     "execution_count": 77,
     "metadata": {},
     "output_type": "execute_result"
    }
   ],
   "source": [
    "offer_response_df"
   ]
  },
  {
   "cell_type": "code",
   "execution_count": 78,
   "metadata": {},
   "outputs": [
    {
     "data": {
      "text/plain": [
       "Text(0,0.5,'Success percentage')"
      ]
     },
     "execution_count": 78,
     "metadata": {},
     "output_type": "execute_result"
    },
    {
     "data": {
      "image/png": "[encoded data removed]",
      "text/plain": [
       "<matplotlib.figure.Figure at 0x7fab703e84a8>"
      ]
     },
     "metadata": {
      "needs_background": "light"
     },
     "output_type": "display_data"
    }
   ],
   "source": [
    "fig, ax = plt.subplots(figsize=(12, 4), nrows=1, ncols=2)\n",
    "\n",
    "# plot that illustrate how many customers were provided with a specific offer\n",
    "ax[0].bar(offer_response_df.index + 1, offer_response_df['count'])\n",
    "ax[0].set_xticks(np.arange(0,10) + 1)\n",
    "ax[0].set_xlabel('Offer number')\n",
    "ax[0].set_ylabel('Count')\n",
    "\n",
    "# plot that illustrate \n",
    "ax[1].bar(offer_response_df.index + 1, offer_response_df['success_pourcentage'])\n",
    "ax[1].set_xticks(np.arange(0,10) + 1)\n",
    "ax[1].set_xlabel('Offer number')\n",
    "ax[1].set_ylabel('Success percentage')"
   ]
  },
  {
   "cell_type": "markdown",
   "metadata": {},
   "source": [
    "From the results shown above, we notice that the number of offers sent to customers is almost the same.  \n",
    "For the percentage of success of an offer, we observe that the offer number 10 and 2 are the most successful with rates 75.20% and 72.28%, the lowest is offer number 4 with rate 36.76%."
   ]
  },
  {
   "cell_type": "markdown",
   "metadata": {},
   "source": [
    "## 2. Build models"
   ]
  },
  {
   "cell_type": "markdown",
   "metadata": {},
   "source": [
    "### 2.1 Create train and test datasets"
   ]
  },
  {
   "cell_type": "markdown",
   "metadata": {},
   "source": [
    "the data we use is usually split into training data and test data. The training set contains a known output and the model learns on this data in order to be generalized to other data later on. We have the test dataset in order to test our model's prediction on this subset."
   ]
  },
  {
   "cell_type": "code",
   "execution_count": 79,
   "metadata": {},
   "outputs": [
    {
     "data": {
      "text/plain": [
       "Index(['customer_id', 'offer_id', 'time', 'difficulty', 'duration', 'reward',\n",
       "       'email', 'mobile', 'social', 'web', 'bogo', 'discount', 'informational',\n",
       "       'gender', 'income', 'age_by_decade', 'became_member_year',\n",
       "       'became_member_month', 'became_member_day', 'became_member_tenure',\n",
       "       'income_by_range', 'F', 'M', 'O', 'age_10s', 'age_20s', 'age_30s',\n",
       "       'age_40s', 'age_50s', 'age_60s', 'age_70s', 'age_80s', 'age_90s',\n",
       "       'age_100s', '2013', '2014', '2015', '2016', '2017', '2018', 'month_1',\n",
       "       'month_2', 'month_3', 'month_4', 'month_5', 'month_6', 'month_7',\n",
       "       'month_8', 'month_9', 'month_10', 'month_11', 'month_12',\n",
       "       'income_30ths', 'income_40ths', 'income_50ths', 'income_60ths',\n",
       "       'income_70ths', 'income_80ths', 'income_90ths', 'income_100ths',\n",
       "       'income_110ths', 'income_120ths', 'total_amount', 'cust_response'],\n",
       "      dtype='object')"
      ]
     },
     "execution_count": 79,
     "metadata": {},
     "output_type": "execute_result"
    }
   ],
   "source": [
    "# show the columns of the combined datset \n",
    "combined_data_df.columns"
   ]
  },
  {
   "cell_type": "code",
   "execution_count": 80,
   "metadata": {},
   "outputs": [],
   "source": [
    "# Drop features from combined_data which are not required for training the model\n",
    "combined_data_df.drop(columns=['customer_id', 'offer_id', 'time', 'email','gender', 'income', 'age_by_decade','became_member_year',\n",
    "'became_member_month', 'became_member_day','income_by_range'], inplace=True)\n"
   ]
  },
  {
   "cell_type": "code",
   "execution_count": 81,
   "metadata": {},
   "outputs": [
    {
     "data": {
      "text/plain": [
       "Index(['difficulty', 'duration', 'reward', 'mobile', 'social', 'web', 'bogo',\n",
       "       'discount', 'informational', 'became_member_tenure', 'F', 'M', 'O',\n",
       "       'age_10s', 'age_20s', 'age_30s', 'age_40s', 'age_50s', 'age_60s',\n",
       "       'age_70s', 'age_80s', 'age_90s', 'age_100s', '2013', '2014', '2015',\n",
       "       '2016', '2017', '2018', 'month_1', 'month_2', 'month_3', 'month_4',\n",
       "       'month_5', 'month_6', 'month_7', 'month_8', 'month_9', 'month_10',\n",
       "       'month_11', 'month_12', 'income_30ths', 'income_40ths', 'income_50ths',\n",
       "       'income_60ths', 'income_70ths', 'income_80ths', 'income_90ths',\n",
       "       'income_100ths', 'income_110ths', 'income_120ths', 'total_amount',\n",
       "       'cust_response'],\n",
       "      dtype='object')"
      ]
     },
     "execution_count": 81,
     "metadata": {},
     "output_type": "execute_result"
    }
   ],
   "source": [
    "# combined_data culumns after dropping unuseful columns \n",
    "combined_data_df.columns"
   ]
  },
  {
   "cell_type": "code",
   "execution_count": 82,
   "metadata": {},
   "outputs": [
    {
     "data": {
      "text/html": [
       "<div>\n",
       "<style scoped>\n",
       "    .dataframe tbody tr th:only-of-type {\n",
       "        vertical-align: middle;\n",
       "    }\n",
       "\n",
       "    .dataframe tbody tr th {\n",
       "        vertical-align: top;\n",
       "    }\n",
       "\n",
       "    .dataframe thead th {\n",
       "        text-align: right;\n",
       "    }\n",
       "</style>\n",
       "<table border=\"1\" class=\"dataframe\">\n",
       "  <thead>\n",
       "    <tr style=\"text-align: right;\">\n",
       "      <th></th>\n",
       "      <th>difficulty</th>\n",
       "      <th>duration</th>\n",
       "      <th>reward</th>\n",
       "      <th>mobile</th>\n",
       "      <th>social</th>\n",
       "      <th>web</th>\n",
       "      <th>bogo</th>\n",
       "      <th>discount</th>\n",
       "      <th>informational</th>\n",
       "      <th>became_member_tenure</th>\n",
       "      <th>...</th>\n",
       "      <th>income_50ths</th>\n",
       "      <th>income_60ths</th>\n",
       "      <th>income_70ths</th>\n",
       "      <th>income_80ths</th>\n",
       "      <th>income_90ths</th>\n",
       "      <th>income_100ths</th>\n",
       "      <th>income_110ths</th>\n",
       "      <th>income_120ths</th>\n",
       "      <th>total_amount</th>\n",
       "      <th>cust_response</th>\n",
       "    </tr>\n",
       "  </thead>\n",
       "  <tbody>\n",
       "    <tr>\n",
       "      <th>0</th>\n",
       "      <td>5</td>\n",
       "      <td>168</td>\n",
       "      <td>5</td>\n",
       "      <td>1</td>\n",
       "      <td>0</td>\n",
       "      <td>1</td>\n",
       "      <td>1</td>\n",
       "      <td>0</td>\n",
       "      <td>0</td>\n",
       "      <td>1095</td>\n",
       "      <td>...</td>\n",
       "      <td>0</td>\n",
       "      <td>0</td>\n",
       "      <td>0</td>\n",
       "      <td>0</td>\n",
       "      <td>0</td>\n",
       "      <td>1</td>\n",
       "      <td>0</td>\n",
       "      <td>0</td>\n",
       "      <td>37.67</td>\n",
       "      <td>1</td>\n",
       "    </tr>\n",
       "    <tr>\n",
       "      <th>1</th>\n",
       "      <td>0</td>\n",
       "      <td>72</td>\n",
       "      <td>0</td>\n",
       "      <td>1</td>\n",
       "      <td>1</td>\n",
       "      <td>0</td>\n",
       "      <td>0</td>\n",
       "      <td>0</td>\n",
       "      <td>1</td>\n",
       "      <td>1095</td>\n",
       "      <td>...</td>\n",
       "      <td>0</td>\n",
       "      <td>0</td>\n",
       "      <td>0</td>\n",
       "      <td>0</td>\n",
       "      <td>0</td>\n",
       "      <td>1</td>\n",
       "      <td>0</td>\n",
       "      <td>0</td>\n",
       "      <td>49.39</td>\n",
       "      <td>1</td>\n",
       "    </tr>\n",
       "    <tr>\n",
       "      <th>2</th>\n",
       "      <td>10</td>\n",
       "      <td>168</td>\n",
       "      <td>10</td>\n",
       "      <td>1</td>\n",
       "      <td>1</td>\n",
       "      <td>0</td>\n",
       "      <td>1</td>\n",
       "      <td>0</td>\n",
       "      <td>0</td>\n",
       "      <td>1095</td>\n",
       "      <td>...</td>\n",
       "      <td>0</td>\n",
       "      <td>0</td>\n",
       "      <td>0</td>\n",
       "      <td>0</td>\n",
       "      <td>0</td>\n",
       "      <td>1</td>\n",
       "      <td>0</td>\n",
       "      <td>0</td>\n",
       "      <td>48.28</td>\n",
       "      <td>1</td>\n",
       "    </tr>\n",
       "    <tr>\n",
       "      <th>3</th>\n",
       "      <td>5</td>\n",
       "      <td>120</td>\n",
       "      <td>5</td>\n",
       "      <td>1</td>\n",
       "      <td>1</td>\n",
       "      <td>1</td>\n",
       "      <td>1</td>\n",
       "      <td>0</td>\n",
       "      <td>0</td>\n",
       "      <td>1095</td>\n",
       "      <td>...</td>\n",
       "      <td>0</td>\n",
       "      <td>0</td>\n",
       "      <td>0</td>\n",
       "      <td>0</td>\n",
       "      <td>0</td>\n",
       "      <td>1</td>\n",
       "      <td>0</td>\n",
       "      <td>0</td>\n",
       "      <td>48.28</td>\n",
       "      <td>1</td>\n",
       "    </tr>\n",
       "    <tr>\n",
       "      <th>4</th>\n",
       "      <td>10</td>\n",
       "      <td>168</td>\n",
       "      <td>2</td>\n",
       "      <td>1</td>\n",
       "      <td>0</td>\n",
       "      <td>1</td>\n",
       "      <td>0</td>\n",
       "      <td>1</td>\n",
       "      <td>0</td>\n",
       "      <td>743</td>\n",
       "      <td>...</td>\n",
       "      <td>0</td>\n",
       "      <td>0</td>\n",
       "      <td>1</td>\n",
       "      <td>0</td>\n",
       "      <td>0</td>\n",
       "      <td>0</td>\n",
       "      <td>0</td>\n",
       "      <td>0</td>\n",
       "      <td>0.00</td>\n",
       "      <td>0</td>\n",
       "    </tr>\n",
       "  </tbody>\n",
       "</table>\n",
       "<p>5 rows × 53 columns</p>\n",
       "</div>"
      ],
      "text/plain": [
       "   difficulty  duration  reward  mobile  social  web  bogo  discount  \\\n",
       "0           5       168       5       1       0    1     1         0   \n",
       "1           0        72       0       1       1    0     0         0   \n",
       "2          10       168      10       1       1    0     1         0   \n",
       "3           5       120       5       1       1    1     1         0   \n",
       "4          10       168       2       1       0    1     0         1   \n",
       "\n",
       "   informational  became_member_tenure      ...        income_50ths  \\\n",
       "0              0                  1095      ...                   0   \n",
       "1              1                  1095      ...                   0   \n",
       "2              0                  1095      ...                   0   \n",
       "3              0                  1095      ...                   0   \n",
       "4              0                   743      ...                   0   \n",
       "\n",
       "   income_60ths  income_70ths  income_80ths  income_90ths  income_100ths  \\\n",
       "0             0             0             0             0              1   \n",
       "1             0             0             0             0              1   \n",
       "2             0             0             0             0              1   \n",
       "3             0             0             0             0              1   \n",
       "4             0             1             0             0              0   \n",
       "\n",
       "   income_110ths  income_120ths  total_amount  cust_response  \n",
       "0              0              0         37.67              1  \n",
       "1              0              0         49.39              1  \n",
       "2              0              0         48.28              1  \n",
       "3              0              0         48.28              1  \n",
       "4              0              0          0.00              0  \n",
       "\n",
       "[5 rows x 53 columns]"
      ]
     },
     "execution_count": 82,
     "metadata": {},
     "output_type": "execute_result"
    }
   ],
   "source": [
    "combined_data_df.head()"
   ]
  },
  {
   "cell_type": "code",
   "execution_count": 83,
   "metadata": {},
   "outputs": [],
   "source": [
    "# split data into features X and target y\n",
    "# features : independece variables that act as the input of the model\n",
    "X = combined_data_df.drop(columns=['cust_response'])\n",
    "# target : the variable to predict \n",
    "y = combined_data_df['cust_response']"
   ]
  },
  {
   "cell_type": "code",
   "execution_count": 84,
   "metadata": {},
   "outputs": [],
   "source": [
    "# split data into train and test sets\n",
    "X_train, X_test, y_train, y_test = train_test_split(X, y, test_size=0.3, random_state=42)"
   ]
  },
  {
   "cell_type": "markdown",
   "metadata": {},
   "source": [
    "### 2.2 Scale features"
   ]
  },
  {
   "cell_type": "code",
   "execution_count": 85,
   "metadata": {},
   "outputs": [],
   "source": [
    "# Prepare list of features to scale\n",
    "features_to_scale = ['difficulty', 'duration', 'reward', 'became_member_tenure', 'total_amount']"
   ]
  },
  {
   "cell_type": "code",
   "execution_count": 86,
   "metadata": {},
   "outputs": [],
   "source": [
    "def features_scale(df, feat=features_to_scale):\n",
    "    \n",
    "    \n",
    "    \"\"\"\n",
    "    Scale list features in a given dataframe\n",
    "    \n",
    "    INPUT:\n",
    "    - df (dataframe): dataframe having features to scale\n",
    "    - feat (list): list of features in dataframe to scale\n",
    "            \n",
    "    OUTPUT:\n",
    "    - scaled_df (dataframe): dataframe containing scaled features\n",
    "    \"\"\"\n",
    "        \n",
    "    # Prepare dataframe with features to scale\n",
    "    df_feat_scale = df[feat]\n",
    "        \n",
    "    # Apply feature scaling to df\n",
    "    scaler = MinMaxScaler()\n",
    "    df_feat_scale = pd.DataFrame(scaler.fit_transform(df_feat_scale), columns = df_feat_scale.columns,index=df_feat_scale.index)\n",
    "        \n",
    "    # Drop orignal features from df and add scaled features \n",
    "    df = df.drop(columns=feat, axis=1)\n",
    "    df_scaled = pd.concat([df, df_feat_scale], axis=1)\n",
    "        \n",
    "    return df_scaled"
   ]
  },
  {
   "cell_type": "code",
   "execution_count": 87,
   "metadata": {},
   "outputs": [
    {
     "data": {
      "text/html": [
       "<div>\n",
       "<style scoped>\n",
       "    .dataframe tbody tr th:only-of-type {\n",
       "        vertical-align: middle;\n",
       "    }\n",
       "\n",
       "    .dataframe tbody tr th {\n",
       "        vertical-align: top;\n",
       "    }\n",
       "\n",
       "    .dataframe thead th {\n",
       "        text-align: right;\n",
       "    }\n",
       "</style>\n",
       "<table border=\"1\" class=\"dataframe\">\n",
       "  <thead>\n",
       "    <tr style=\"text-align: right;\">\n",
       "      <th></th>\n",
       "      <th>mobile</th>\n",
       "      <th>social</th>\n",
       "      <th>web</th>\n",
       "      <th>bogo</th>\n",
       "      <th>discount</th>\n",
       "      <th>informational</th>\n",
       "      <th>F</th>\n",
       "      <th>M</th>\n",
       "      <th>O</th>\n",
       "      <th>age_10s</th>\n",
       "      <th>...</th>\n",
       "      <th>income_80ths</th>\n",
       "      <th>income_90ths</th>\n",
       "      <th>income_100ths</th>\n",
       "      <th>income_110ths</th>\n",
       "      <th>income_120ths</th>\n",
       "      <th>difficulty</th>\n",
       "      <th>duration</th>\n",
       "      <th>reward</th>\n",
       "      <th>became_member_tenure</th>\n",
       "      <th>total_amount</th>\n",
       "    </tr>\n",
       "  </thead>\n",
       "  <tbody>\n",
       "    <tr>\n",
       "      <th>58908</th>\n",
       "      <td>1</td>\n",
       "      <td>1</td>\n",
       "      <td>1</td>\n",
       "      <td>0</td>\n",
       "      <td>1</td>\n",
       "      <td>0</td>\n",
       "      <td>1</td>\n",
       "      <td>0</td>\n",
       "      <td>0</td>\n",
       "      <td>0</td>\n",
       "      <td>...</td>\n",
       "      <td>0</td>\n",
       "      <td>0</td>\n",
       "      <td>1</td>\n",
       "      <td>0</td>\n",
       "      <td>0</td>\n",
       "      <td>0.50</td>\n",
       "      <td>1.000000</td>\n",
       "      <td>0.2</td>\n",
       "      <td>0.164564</td>\n",
       "      <td>0.124780</td>\n",
       "    </tr>\n",
       "    <tr>\n",
       "      <th>19120</th>\n",
       "      <td>1</td>\n",
       "      <td>1</td>\n",
       "      <td>1</td>\n",
       "      <td>0</td>\n",
       "      <td>1</td>\n",
       "      <td>0</td>\n",
       "      <td>1</td>\n",
       "      <td>0</td>\n",
       "      <td>0</td>\n",
       "      <td>0</td>\n",
       "      <td>...</td>\n",
       "      <td>0</td>\n",
       "      <td>0</td>\n",
       "      <td>1</td>\n",
       "      <td>0</td>\n",
       "      <td>0</td>\n",
       "      <td>0.50</td>\n",
       "      <td>1.000000</td>\n",
       "      <td>0.2</td>\n",
       "      <td>0.587493</td>\n",
       "      <td>0.104793</td>\n",
       "    </tr>\n",
       "    <tr>\n",
       "      <th>28550</th>\n",
       "      <td>1</td>\n",
       "      <td>0</td>\n",
       "      <td>1</td>\n",
       "      <td>1</td>\n",
       "      <td>0</td>\n",
       "      <td>0</td>\n",
       "      <td>1</td>\n",
       "      <td>0</td>\n",
       "      <td>0</td>\n",
       "      <td>0</td>\n",
       "      <td>...</td>\n",
       "      <td>0</td>\n",
       "      <td>0</td>\n",
       "      <td>0</td>\n",
       "      <td>0</td>\n",
       "      <td>0</td>\n",
       "      <td>0.25</td>\n",
       "      <td>0.571429</td>\n",
       "      <td>0.5</td>\n",
       "      <td>0.302798</td>\n",
       "      <td>0.052758</td>\n",
       "    </tr>\n",
       "    <tr>\n",
       "      <th>33970</th>\n",
       "      <td>1</td>\n",
       "      <td>1</td>\n",
       "      <td>0</td>\n",
       "      <td>1</td>\n",
       "      <td>0</td>\n",
       "      <td>0</td>\n",
       "      <td>0</td>\n",
       "      <td>1</td>\n",
       "      <td>0</td>\n",
       "      <td>0</td>\n",
       "      <td>...</td>\n",
       "      <td>0</td>\n",
       "      <td>0</td>\n",
       "      <td>0</td>\n",
       "      <td>0</td>\n",
       "      <td>0</td>\n",
       "      <td>0.50</td>\n",
       "      <td>0.571429</td>\n",
       "      <td>1.0</td>\n",
       "      <td>0.160724</td>\n",
       "      <td>0.007836</td>\n",
       "    </tr>\n",
       "    <tr>\n",
       "      <th>50388</th>\n",
       "      <td>1</td>\n",
       "      <td>1</td>\n",
       "      <td>1</td>\n",
       "      <td>1</td>\n",
       "      <td>0</td>\n",
       "      <td>0</td>\n",
       "      <td>1</td>\n",
       "      <td>0</td>\n",
       "      <td>0</td>\n",
       "      <td>0</td>\n",
       "      <td>...</td>\n",
       "      <td>0</td>\n",
       "      <td>0</td>\n",
       "      <td>0</td>\n",
       "      <td>0</td>\n",
       "      <td>0</td>\n",
       "      <td>0.50</td>\n",
       "      <td>0.285714</td>\n",
       "      <td>1.0</td>\n",
       "      <td>0.493143</td>\n",
       "      <td>0.034598</td>\n",
       "    </tr>\n",
       "  </tbody>\n",
       "</table>\n",
       "<p>5 rows × 52 columns</p>\n",
       "</div>"
      ],
      "text/plain": [
       "       mobile  social  web  bogo  discount  informational  F  M  O  age_10s  \\\n",
       "58908       1       1    1     0         1              0  1  0  0        0   \n",
       "19120       1       1    1     0         1              0  1  0  0        0   \n",
       "28550       1       0    1     1         0              0  1  0  0        0   \n",
       "33970       1       1    0     1         0              0  0  1  0        0   \n",
       "50388       1       1    1     1         0              0  1  0  0        0   \n",
       "\n",
       "           ...       income_80ths  income_90ths  income_100ths  income_110ths  \\\n",
       "58908      ...                  0             0              1              0   \n",
       "19120      ...                  0             0              1              0   \n",
       "28550      ...                  0             0              0              0   \n",
       "33970      ...                  0             0              0              0   \n",
       "50388      ...                  0             0              0              0   \n",
       "\n",
       "       income_120ths  difficulty  duration  reward  became_member_tenure  \\\n",
       "58908              0        0.50  1.000000     0.2              0.164564   \n",
       "19120              0        0.50  1.000000     0.2              0.587493   \n",
       "28550              0        0.25  0.571429     0.5              0.302798   \n",
       "33970              0        0.50  0.571429     1.0              0.160724   \n",
       "50388              0        0.50  0.285714     1.0              0.493143   \n",
       "\n",
       "       total_amount  \n",
       "58908      0.124780  \n",
       "19120      0.104793  \n",
       "28550      0.052758  \n",
       "33970      0.007836  \n",
       "50388      0.034598  \n",
       "\n",
       "[5 rows x 52 columns]"
      ]
     },
     "execution_count": 87,
     "metadata": {},
     "output_type": "execute_result"
    }
   ],
   "source": [
    "# Scale selected features in training set i.e. X_train\n",
    "X_train_scaled = features_scale(X_train, feat=features_to_scale)\n",
    "X_train_scaled.head()"
   ]
  },
  {
   "cell_type": "code",
   "execution_count": 88,
   "metadata": {},
   "outputs": [
    {
     "data": {
      "text/plain": [
       "1    53.8\n",
       "0    46.2\n",
       "Name: cust_response, dtype: float64"
      ]
     },
     "execution_count": 88,
     "metadata": {},
     "output_type": "execute_result"
    }
   ],
   "source": [
    "# Percenatge of distribution of the target class in training set\n",
    "round((y_train.squeeze().value_counts()/y_train.squeeze().count())*100,2)"
   ]
  },
  {
   "cell_type": "markdown",
   "metadata": {},
   "source": [
    "From the results shown above, we can observe that our training dataset is nearly balanced, it has nearly equal number of customers whom responded to an offer (53.8%) and customers whom did not responded to an offer (46.2%). Since, our training dataset is nearly balanced, we do not have to deal with techniques to combat class imbalance."
   ]
  },
  {
   "cell_type": "code",
   "execution_count": 89,
   "metadata": {},
   "outputs": [
    {
     "data": {
      "text/plain": [
       "1    54.19\n",
       "0    45.81\n",
       "Name: cust_response, dtype: float64"
      ]
     },
     "execution_count": 89,
     "metadata": {},
     "output_type": "execute_result"
    }
   ],
   "source": [
    "# Distribution of the target class in test set\n",
    "round((y_test.squeeze().value_counts()/y_test.squeeze().count())*100,2)"
   ]
  },
  {
   "cell_type": "markdown",
   "metadata": {},
   "source": [
    "From the results shown above, we can observe that our testing dataset is also nearly balanced."
   ]
  },
  {
   "cell_type": "markdown",
   "metadata": {},
   "source": [
    "### 2.3 train classifier "
   ]
  },
  {
   "cell_type": "markdown",
   "metadata": {},
   "source": [
    "##### Select the appropriate performance matrix\n",
    "\n",
    "We found that our training data is nearly balanced in terms of distribution of target class, performance metrics like precision, recall, and f1_score are perfect measures for evaluating a model. F1-score metric is \"the harmonic mean of the precision and recall metrics\" and is better way of providing greater predictive power on the problem and how good the predictive model is making predictions. "
   ]
  },
  {
   "cell_type": "code",
   "execution_count": 90,
   "metadata": {},
   "outputs": [],
   "source": [
    "def fit_classifier(clf, param_grid, X=X_train_scaled.values, y=y_train.squeeze().values):\n",
    "\n",
    "    \"\"\"\n",
    "    Fits a classifier to its training data using GridSearchCV and calculates f1_score\n",
    "    \n",
    "    INPUT:\n",
    "    - clf (classifier): classifier to fit\n",
    "    - param_grid (dict): classifier parameters used with GridSearchCV\n",
    "    - X_train_scaled (DataFrame): training features\n",
    "    - y_train (DataFrame): training label\n",
    "            \n",
    "    OUTPUT:\n",
    "    - classifier: input classifier fitted to the training data\n",
    "    \"\"\"\n",
    "    \n",
    "    # cv uses StratifiedKFold\n",
    "    # scoring f1 available as parameter\n",
    "    start = time.time()\n",
    "    grid = GridSearchCV(estimator=clf, param_grid=param_grid, scoring='f1', cv=5, verbose=0)\n",
    "    print(\"Training {} :\".format(clf.__class__.__name__))\n",
    "    grid.fit(X, y)\n",
    "    end = time.time()\n",
    "    time_taken = round(end-start,2)\n",
    "\n",
    "    print(clf.__class__.__name__)\n",
    "    print(\"Time taken : {} secs\".format(time_taken))\n",
    "    print(\"Best f1_score : {}\".format(round(grid.best_score_,4)))\n",
    "    print(\"*\"*40)\n",
    "    \n",
    "    return grid.best_score_, grid.best_estimator_, time_taken"
   ]
  },
  {
   "cell_type": "code",
   "execution_count": 91,
   "metadata": {},
   "outputs": [],
   "source": [
    "# Initialize classification algorithms\n",
    "lr = LogisticRegression(random_state=42) # LogisticRegression\n",
    "rfc = RandomForestClassifier(random_state=42) # RandomForestClassifier\n",
    "gbc = GradientBoostingClassifier(random_state=42) # GradientBoostingClassifier\n",
    "abc = AdaBoostClassifier(random_state=42) # AdaBoostClassifier"
   ]
  },
  {
   "cell_type": "code",
   "execution_count": 92,
   "metadata": {},
   "outputs": [
    {
     "name": "stdout",
     "output_type": "stream",
     "text": [
      "Training LogisticRegression :\n",
      "LogisticRegression\n",
      "Time taken : 4.13 secs\n",
      "Best f1_score : 0.8416\n",
      "****************************************\n",
      "Training RandomForestClassifier :\n",
      "RandomForestClassifier\n",
      "Time taken : 3.78 secs\n",
      "Best f1_score : 0.9196\n",
      "****************************************\n",
      "Training AdaBoostClassifier :\n",
      "AdaBoostClassifier\n",
      "Time taken : 14.92 secs\n",
      "Best f1_score : 0.8957\n",
      "****************************************\n",
      "Training GradientBoostingClassifier :\n",
      "GradientBoostingClassifier\n",
      "Time taken : 49.22 secs\n",
      "Best f1_score : 0.9205\n",
      "****************************************\n"
     ]
    }
   ],
   "source": [
    "# Find best classification algorithm\n",
    "cl_names = []\n",
    "cl_scores = []\n",
    "cl_best_ests = []\n",
    "cl_time_taken = []\n",
    "cl_dict = {}\n",
    "\n",
    "for classifier in [lr, rfc, abc, gbc]:\n",
    "    best_score, best_est, time_taken = fit_classifier(classifier, {})\n",
    "    cl_names.append(classifier.__class__.__name__)\n",
    "    cl_scores.append(best_score)\n",
    "    cl_best_ests.append(best_est)\n",
    "    cl_time_taken.append(time_taken)"
   ]
  },
  {
   "cell_type": "markdown",
   "metadata": {},
   "source": [
    "RandomForestClassifier and GradientBoostingClassifier has nearly equal f1_score(approx. 0.92) but RandomForestClassifier take very less time to train than the GradientBoostingClassifier. Therefore, best performing classifier algorithm among the above 4 classifiers is RandomForestClassifier."
   ]
  },
  {
   "cell_type": "code",
   "execution_count": 93,
   "metadata": {},
   "outputs": [
    {
     "data": {
      "text/html": [
       "<div>\n",
       "<style scoped>\n",
       "    .dataframe tbody tr th:only-of-type {\n",
       "        vertical-align: middle;\n",
       "    }\n",
       "\n",
       "    .dataframe tbody tr th {\n",
       "        vertical-align: top;\n",
       "    }\n",
       "\n",
       "    .dataframe thead th {\n",
       "        text-align: right;\n",
       "    }\n",
       "</style>\n",
       "<table border=\"1\" class=\"dataframe\">\n",
       "  <thead>\n",
       "    <tr style=\"text-align: right;\">\n",
       "      <th></th>\n",
       "      <th>best_f1_score</th>\n",
       "      <th>time_taken(s)</th>\n",
       "      <th>best_est</th>\n",
       "    </tr>\n",
       "  </thead>\n",
       "  <tbody>\n",
       "    <tr>\n",
       "      <th>LogisticRegression</th>\n",
       "      <td>0.841585</td>\n",
       "      <td>4.13</td>\n",
       "      <td>LogisticRegression(C=1.0, class_weight=None, d...</td>\n",
       "    </tr>\n",
       "    <tr>\n",
       "      <th>RandomForestClassifier</th>\n",
       "      <td>0.919607</td>\n",
       "      <td>3.78</td>\n",
       "      <td>(DecisionTreeClassifier(class_weight=None, cri...</td>\n",
       "    </tr>\n",
       "    <tr>\n",
       "      <th>AdaBoostClassifier</th>\n",
       "      <td>0.895732</td>\n",
       "      <td>14.92</td>\n",
       "      <td>(DecisionTreeClassifier(class_weight=None, cri...</td>\n",
       "    </tr>\n",
       "    <tr>\n",
       "      <th>GradientBoostingClassifier</th>\n",
       "      <td>0.920536</td>\n",
       "      <td>49.22</td>\n",
       "      <td>([DecisionTreeRegressor(criterion='friedman_ms...</td>\n",
       "    </tr>\n",
       "  </tbody>\n",
       "</table>\n",
       "</div>"
      ],
      "text/plain": [
       "                            best_f1_score  time_taken(s)  \\\n",
       "LogisticRegression               0.841585           4.13   \n",
       "RandomForestClassifier           0.919607           3.78   \n",
       "AdaBoostClassifier               0.895732          14.92   \n",
       "GradientBoostingClassifier       0.920536          49.22   \n",
       "\n",
       "                                                                     best_est  \n",
       "LogisticRegression          LogisticRegression(C=1.0, class_weight=None, d...  \n",
       "RandomForestClassifier      (DecisionTreeClassifier(class_weight=None, cri...  \n",
       "AdaBoostClassifier          (DecisionTreeClassifier(class_weight=None, cri...  \n",
       "GradientBoostingClassifier  ([DecisionTreeRegressor(criterion='friedman_ms...  "
      ]
     },
     "execution_count": 93,
     "metadata": {},
     "output_type": "execute_result"
    }
   ],
   "source": [
    "# Create clf_df dataframe from clf_dict\n",
    "cl_dict['best_f1_score'] = cl_scores\n",
    "cl_dict['time_taken(s)'] = cl_time_taken\n",
    "cl_dict['best_est'] = cl_best_ests\n",
    "cl_df = pd.DataFrame(cl_dict, index=cl_names)\n",
    "cl_df"
   ]
  },
  {
   "cell_type": "code",
   "execution_count": 94,
   "metadata": {},
   "outputs": [
    {
     "data": {
      "text/plain": [
       "RandomForestClassifier(bootstrap=True, class_weight=None, criterion='gini',\n",
       "            max_depth=None, max_features='auto', max_leaf_nodes=None,\n",
       "            min_impurity_decrease=0.0, min_impurity_split=None,\n",
       "            min_samples_leaf=1, min_samples_split=2,\n",
       "            min_weight_fraction_leaf=0.0, n_estimators=10, n_jobs=1,\n",
       "            oob_score=False, random_state=42, verbose=0, warm_start=False)"
      ]
     },
     "execution_count": 94,
     "metadata": {},
     "output_type": "execute_result"
    }
   ],
   "source": [
    "# display parametrs of RandomForestClassifier\n",
    "cl_df.loc['RandomForestClassifier', 'best_est']"
   ]
  },
  {
   "cell_type": "code",
   "execution_count": 95,
   "metadata": {},
   "outputs": [
    {
     "name": "stdout",
     "output_type": "stream",
     "text": [
      "Training RandomForestClassifier :\n",
      "RandomForestClassifier\n",
      "Time taken : 577.71 secs\n",
      "Best f1_score : 0.9294\n",
      "****************************************\n"
     ]
    },
    {
     "data": {
      "text/plain": [
       "RandomForestClassifier(bootstrap=True, class_weight=None, criterion='gini',\n",
       "            max_depth=None, max_features='auto', max_leaf_nodes=None,\n",
       "            min_impurity_decrease=0.0, min_impurity_split=None,\n",
       "            min_samples_leaf=1, min_samples_split=2,\n",
       "            min_weight_fraction_leaf=0.0, n_estimators=100, n_jobs=1,\n",
       "            oob_score=False, random_state=42, verbose=0, warm_start=False)"
      ]
     },
     "execution_count": 95,
     "metadata": {},
     "output_type": "execute_result"
    }
   ],
   "source": [
    "# Tuninig RandomForestClassifier classifier with the help of param grid in GridSearchCV\n",
    "param_grid = {\n",
    "               # Number of trees in random forest\n",
    "              'n_estimators': [10, 50, 80, 100],\n",
    "               # Maximum number of levels in tree\n",
    "              'max_depth': [None],\n",
    "               # Minimum number of samples required to split a node\n",
    "              'min_samples_split': [2, 5, 10],\n",
    "               # Minimum number of samples required at each leaf node\n",
    "              'min_samples_leaf': [1, 2, 4]}\n",
    "\n",
    "rfc = RandomForestClassifier(random_state=42)\n",
    "rfc_best_score, rfc_best_est, _ = fit_classifier(rfc, param_grid)\n",
    "rfc_best_est"
   ]
  },
  {
   "cell_type": "markdown",
   "metadata": {},
   "source": [
    "We notive that after fine tuning the trained RandomForestClassifier, we get e better f1_score of 0.9294."
   ]
  },
  {
   "cell_type": "markdown",
   "metadata": {},
   "source": [
    "#### 2.4 Feature importance by RandomForestClassifier"
   ]
  },
  {
   "cell_type": "code",
   "execution_count": 96,
   "metadata": {},
   "outputs": [
    {
     "data": {
      "text/html": [
       "<div>\n",
       "<style scoped>\n",
       "    .dataframe tbody tr th:only-of-type {\n",
       "        vertical-align: middle;\n",
       "    }\n",
       "\n",
       "    .dataframe tbody tr th {\n",
       "        vertical-align: top;\n",
       "    }\n",
       "\n",
       "    .dataframe thead th {\n",
       "        text-align: right;\n",
       "    }\n",
       "</style>\n",
       "<table border=\"1\" class=\"dataframe\">\n",
       "  <thead>\n",
       "    <tr style=\"text-align: right;\">\n",
       "      <th></th>\n",
       "      <th>feature</th>\n",
       "      <th>feat_imp_rate</th>\n",
       "    </tr>\n",
       "  </thead>\n",
       "  <tbody>\n",
       "    <tr>\n",
       "      <th>0</th>\n",
       "      <td>total_amount</td>\n",
       "      <td>61.00</td>\n",
       "    </tr>\n",
       "    <tr>\n",
       "      <th>1</th>\n",
       "      <td>became_member_tenure</td>\n",
       "      <td>9.74</td>\n",
       "    </tr>\n",
       "    <tr>\n",
       "      <th>2</th>\n",
       "      <td>social</td>\n",
       "      <td>1.86</td>\n",
       "    </tr>\n",
       "    <tr>\n",
       "      <th>3</th>\n",
       "      <td>duration</td>\n",
       "      <td>1.49</td>\n",
       "    </tr>\n",
       "    <tr>\n",
       "      <th>4</th>\n",
       "      <td>difficulty</td>\n",
       "      <td>1.47</td>\n",
       "    </tr>\n",
       "    <tr>\n",
       "      <th>5</th>\n",
       "      <td>reward</td>\n",
       "      <td>1.41</td>\n",
       "    </tr>\n",
       "    <tr>\n",
       "      <th>6</th>\n",
       "      <td>2018</td>\n",
       "      <td>1.40</td>\n",
       "    </tr>\n",
       "    <tr>\n",
       "      <th>7</th>\n",
       "      <td>2016</td>\n",
       "      <td>0.99</td>\n",
       "    </tr>\n",
       "    <tr>\n",
       "      <th>8</th>\n",
       "      <td>income_30ths</td>\n",
       "      <td>0.84</td>\n",
       "    </tr>\n",
       "    <tr>\n",
       "      <th>9</th>\n",
       "      <td>age_50s</td>\n",
       "      <td>0.84</td>\n",
       "    </tr>\n",
       "    <tr>\n",
       "      <th>10</th>\n",
       "      <td>age_60s</td>\n",
       "      <td>0.80</td>\n",
       "    </tr>\n",
       "    <tr>\n",
       "      <th>11</th>\n",
       "      <td>M</td>\n",
       "      <td>0.76</td>\n",
       "    </tr>\n",
       "    <tr>\n",
       "      <th>12</th>\n",
       "      <td>F</td>\n",
       "      <td>0.68</td>\n",
       "    </tr>\n",
       "    <tr>\n",
       "      <th>13</th>\n",
       "      <td>age_40s</td>\n",
       "      <td>0.68</td>\n",
       "    </tr>\n",
       "    <tr>\n",
       "      <th>14</th>\n",
       "      <td>income_40ths</td>\n",
       "      <td>0.67</td>\n",
       "    </tr>\n",
       "    <tr>\n",
       "      <th>15</th>\n",
       "      <td>income_50ths</td>\n",
       "      <td>0.65</td>\n",
       "    </tr>\n",
       "    <tr>\n",
       "      <th>16</th>\n",
       "      <td>income_70ths</td>\n",
       "      <td>0.64</td>\n",
       "    </tr>\n",
       "    <tr>\n",
       "      <th>17</th>\n",
       "      <td>age_70s</td>\n",
       "      <td>0.63</td>\n",
       "    </tr>\n",
       "    <tr>\n",
       "      <th>18</th>\n",
       "      <td>income_60ths</td>\n",
       "      <td>0.61</td>\n",
       "    </tr>\n",
       "    <tr>\n",
       "      <th>19</th>\n",
       "      <td>age_30s</td>\n",
       "      <td>0.59</td>\n",
       "    </tr>\n",
       "    <tr>\n",
       "      <th>20</th>\n",
       "      <td>age_20s</td>\n",
       "      <td>0.58</td>\n",
       "    </tr>\n",
       "    <tr>\n",
       "      <th>21</th>\n",
       "      <td>discount</td>\n",
       "      <td>0.57</td>\n",
       "    </tr>\n",
       "    <tr>\n",
       "      <th>22</th>\n",
       "      <td>income_80ths</td>\n",
       "      <td>0.54</td>\n",
       "    </tr>\n",
       "    <tr>\n",
       "      <th>23</th>\n",
       "      <td>2017</td>\n",
       "      <td>0.53</td>\n",
       "    </tr>\n",
       "    <tr>\n",
       "      <th>24</th>\n",
       "      <td>month_9</td>\n",
       "      <td>0.49</td>\n",
       "    </tr>\n",
       "    <tr>\n",
       "      <th>25</th>\n",
       "      <td>income_90ths</td>\n",
       "      <td>0.49</td>\n",
       "    </tr>\n",
       "    <tr>\n",
       "      <th>26</th>\n",
       "      <td>web</td>\n",
       "      <td>0.47</td>\n",
       "    </tr>\n",
       "    <tr>\n",
       "      <th>27</th>\n",
       "      <td>month_10</td>\n",
       "      <td>0.47</td>\n",
       "    </tr>\n",
       "    <tr>\n",
       "      <th>28</th>\n",
       "      <td>month_11</td>\n",
       "      <td>0.46</td>\n",
       "    </tr>\n",
       "    <tr>\n",
       "      <th>29</th>\n",
       "      <td>month_4</td>\n",
       "      <td>0.46</td>\n",
       "    </tr>\n",
       "    <tr>\n",
       "      <th>30</th>\n",
       "      <td>month_7</td>\n",
       "      <td>0.46</td>\n",
       "    </tr>\n",
       "    <tr>\n",
       "      <th>31</th>\n",
       "      <td>month_5</td>\n",
       "      <td>0.45</td>\n",
       "    </tr>\n",
       "    <tr>\n",
       "      <th>32</th>\n",
       "      <td>month_8</td>\n",
       "      <td>0.45</td>\n",
       "    </tr>\n",
       "    <tr>\n",
       "      <th>33</th>\n",
       "      <td>month_3</td>\n",
       "      <td>0.44</td>\n",
       "    </tr>\n",
       "    <tr>\n",
       "      <th>34</th>\n",
       "      <td>month_6</td>\n",
       "      <td>0.44</td>\n",
       "    </tr>\n",
       "    <tr>\n",
       "      <th>35</th>\n",
       "      <td>month_1</td>\n",
       "      <td>0.44</td>\n",
       "    </tr>\n",
       "    <tr>\n",
       "      <th>36</th>\n",
       "      <td>month_12</td>\n",
       "      <td>0.44</td>\n",
       "    </tr>\n",
       "    <tr>\n",
       "      <th>37</th>\n",
       "      <td>month_2</td>\n",
       "      <td>0.43</td>\n",
       "    </tr>\n",
       "    <tr>\n",
       "      <th>38</th>\n",
       "      <td>age_80s</td>\n",
       "      <td>0.43</td>\n",
       "    </tr>\n",
       "    <tr>\n",
       "      <th>39</th>\n",
       "      <td>mobile</td>\n",
       "      <td>0.42</td>\n",
       "    </tr>\n",
       "    <tr>\n",
       "      <th>40</th>\n",
       "      <td>2015</td>\n",
       "      <td>0.41</td>\n",
       "    </tr>\n",
       "    <tr>\n",
       "      <th>41</th>\n",
       "      <td>income_110ths</td>\n",
       "      <td>0.37</td>\n",
       "    </tr>\n",
       "    <tr>\n",
       "      <th>42</th>\n",
       "      <td>informational</td>\n",
       "      <td>0.36</td>\n",
       "    </tr>\n",
       "    <tr>\n",
       "      <th>43</th>\n",
       "      <td>bogo</td>\n",
       "      <td>0.36</td>\n",
       "    </tr>\n",
       "    <tr>\n",
       "      <th>44</th>\n",
       "      <td>income_100ths</td>\n",
       "      <td>0.35</td>\n",
       "    </tr>\n",
       "    <tr>\n",
       "      <th>45</th>\n",
       "      <td>2014</td>\n",
       "      <td>0.26</td>\n",
       "    </tr>\n",
       "    <tr>\n",
       "      <th>46</th>\n",
       "      <td>age_90s</td>\n",
       "      <td>0.23</td>\n",
       "    </tr>\n",
       "    <tr>\n",
       "      <th>47</th>\n",
       "      <td>age_10s</td>\n",
       "      <td>0.17</td>\n",
       "    </tr>\n",
       "    <tr>\n",
       "      <th>48</th>\n",
       "      <td>2013</td>\n",
       "      <td>0.13</td>\n",
       "    </tr>\n",
       "    <tr>\n",
       "      <th>49</th>\n",
       "      <td>O</td>\n",
       "      <td>0.11</td>\n",
       "    </tr>\n",
       "    <tr>\n",
       "      <th>50</th>\n",
       "      <td>income_120ths</td>\n",
       "      <td>0.02</td>\n",
       "    </tr>\n",
       "    <tr>\n",
       "      <th>51</th>\n",
       "      <td>age_100s</td>\n",
       "      <td>0.01</td>\n",
       "    </tr>\n",
       "  </tbody>\n",
       "</table>\n",
       "</div>"
      ],
      "text/plain": [
       "                 feature  feat_imp_rate\n",
       "0           total_amount          61.00\n",
       "1   became_member_tenure           9.74\n",
       "2                 social           1.86\n",
       "3               duration           1.49\n",
       "4             difficulty           1.47\n",
       "5                 reward           1.41\n",
       "6                   2018           1.40\n",
       "7                   2016           0.99\n",
       "8           income_30ths           0.84\n",
       "9                age_50s           0.84\n",
       "10               age_60s           0.80\n",
       "11                     M           0.76\n",
       "12                     F           0.68\n",
       "13               age_40s           0.68\n",
       "14          income_40ths           0.67\n",
       "15          income_50ths           0.65\n",
       "16          income_70ths           0.64\n",
       "17               age_70s           0.63\n",
       "18          income_60ths           0.61\n",
       "19               age_30s           0.59\n",
       "20               age_20s           0.58\n",
       "21              discount           0.57\n",
       "22          income_80ths           0.54\n",
       "23                  2017           0.53\n",
       "24               month_9           0.49\n",
       "25          income_90ths           0.49\n",
       "26                   web           0.47\n",
       "27              month_10           0.47\n",
       "28              month_11           0.46\n",
       "29               month_4           0.46\n",
       "30               month_7           0.46\n",
       "31               month_5           0.45\n",
       "32               month_8           0.45\n",
       "33               month_3           0.44\n",
       "34               month_6           0.44\n",
       "35               month_1           0.44\n",
       "36              month_12           0.44\n",
       "37               month_2           0.43\n",
       "38               age_80s           0.43\n",
       "39                mobile           0.42\n",
       "40                  2015           0.41\n",
       "41         income_110ths           0.37\n",
       "42         informational           0.36\n",
       "43                  bogo           0.36\n",
       "44         income_100ths           0.35\n",
       "45                  2014           0.26\n",
       "46               age_90s           0.23\n",
       "47               age_10s           0.17\n",
       "48                  2013           0.13\n",
       "49                     O           0.11\n",
       "50         income_120ths           0.02\n",
       "51              age_100s           0.01"
      ]
     },
     "execution_count": 96,
     "metadata": {},
     "output_type": "execute_result"
    }
   ],
   "source": [
    "# Prepare a dataframe with features and their importance by RandomForestClassifier\n",
    "feature_imp = pd.DataFrame(rfc_best_est.feature_importances_,index=X_train_scaled.columns.tolist(),columns=['feat_imp']).reset_index()\n",
    "\n",
    "feature_imp.rename(columns={'index': 'feature'}, inplace=True)\n",
    "feature_imp['feat_imp_rate'] = np.round((feature_imp['feat_imp']/feature_imp['feat_imp'].sum())*100,2)\n",
    "feature_imp = feature_imp.sort_values(by=['feat_imp_rate'], ascending=False).reset_index(drop=True)\n",
    "feature_imp.drop(columns=['feat_imp'],inplace=True)\n",
    "feature_imp"
   ]
  },
  {
   "cell_type": "code",
   "execution_count": 97,
   "metadata": {},
   "outputs": [
    {
     "data": {
      "image/png": "[encoded data removed]",
      "text/plain": [
       "<matplotlib.figure.Figure at 0x7fab70376550>"
      ]
     },
     "metadata": {
      "needs_background": "light"
     },
     "output_type": "display_data"
    }
   ],
   "source": [
    "# Plot bar chart of features with their importance\n",
    "fig, ax = plt.subplots(figsize=(10, 10),nrows=1,ncols=1)\n",
    "sns.barplot(x=feature_imp.loc[0:10,'feat_imp_rate'], y=feature_imp.loc[0:10,'feature'], color='c', data=feature_imp)\n",
    "plt.xlabel('Percentage')\n",
    "plt.ylabel('Feature')\n",
    "plt.title('Top 10 important features')\n",
    "plt.show()"
   ]
  },
  {
   "cell_type": "markdown",
   "metadata": {},
   "source": [
    "From the results shown above we notice that :\n",
    "\n",
    "Top 10 features which influence whether the customer will respond to an offer or not after viewing the offer are: \n",
    "  \n",
    "- total_amount spent by the customer is the most important feature which could herdly influence if the customer will complete an offer after viewing the offer.  \n",
    "  \n",
    "- 'became_member_tenure' is the second largest feature which represents, how long the customer has been the member of Starbucks reward program heavily influence if the customer will complete an offer after responding to it.\n",
    "  \n",
    "- 'social feature' which represents, if Starbucks sent the offer to customer via social media is likely to be responded more that other mode of communication.  \n",
    "  \n",
    "- 'difficulty' feature which represents, minimum amount to spent in order to complete the offer influence if the customer would response and complete the offer.  \n",
    "  \n",
    "- 'duration' feature which represents, how long the offer is valid influence the customer response and completion of the offer.  \n",
    "  \n",
    "- 'reward' feature which represents, how much amount as a reward, a customer is getting back influence if the customer would response and complete the offer.  \n",
    "  \n",
    "- '2018' and '2016' features, which represents if a customer became member of Starbucks reward program in years 2016 & 2018, had more chance of responding to an offer and completing it. \n",
    "  \n",
    "- 'income_30ths' feature, which represents if customer's income is in 30000's or  which is the starting income group, then customer is likely to respond more to an offer and complete it.\n",
    "  \n",
    "- 'age_50s', 'age_60s' features which represents if the customer age is in 50's or 60's, then customer is likely to respond more to an offer and complete it. \n",
    "  "
   ]
  },
  {
   "cell_type": "markdown",
   "metadata": {},
   "source": [
    "### 2.5 Predict test data"
   ]
  },
  {
   "cell_type": "code",
   "execution_count": 98,
   "metadata": {},
   "outputs": [
    {
     "data": {
      "text/html": [
       "<div>\n",
       "<style scoped>\n",
       "    .dataframe tbody tr th:only-of-type {\n",
       "        vertical-align: middle;\n",
       "    }\n",
       "\n",
       "    .dataframe tbody tr th {\n",
       "        vertical-align: top;\n",
       "    }\n",
       "\n",
       "    .dataframe thead th {\n",
       "        text-align: right;\n",
       "    }\n",
       "</style>\n",
       "<table border=\"1\" class=\"dataframe\">\n",
       "  <thead>\n",
       "    <tr style=\"text-align: right;\">\n",
       "      <th></th>\n",
       "      <th>mobile</th>\n",
       "      <th>social</th>\n",
       "      <th>web</th>\n",
       "      <th>bogo</th>\n",
       "      <th>discount</th>\n",
       "      <th>informational</th>\n",
       "      <th>F</th>\n",
       "      <th>M</th>\n",
       "      <th>O</th>\n",
       "      <th>age_10s</th>\n",
       "      <th>...</th>\n",
       "      <th>income_80ths</th>\n",
       "      <th>income_90ths</th>\n",
       "      <th>income_100ths</th>\n",
       "      <th>income_110ths</th>\n",
       "      <th>income_120ths</th>\n",
       "      <th>difficulty</th>\n",
       "      <th>duration</th>\n",
       "      <th>reward</th>\n",
       "      <th>became_member_tenure</th>\n",
       "      <th>total_amount</th>\n",
       "    </tr>\n",
       "  </thead>\n",
       "  <tbody>\n",
       "    <tr>\n",
       "      <th>20034</th>\n",
       "      <td>1</td>\n",
       "      <td>0</td>\n",
       "      <td>1</td>\n",
       "      <td>1</td>\n",
       "      <td>0</td>\n",
       "      <td>0</td>\n",
       "      <td>0</td>\n",
       "      <td>1</td>\n",
       "      <td>0</td>\n",
       "      <td>0</td>\n",
       "      <td>...</td>\n",
       "      <td>0</td>\n",
       "      <td>0</td>\n",
       "      <td>0</td>\n",
       "      <td>0</td>\n",
       "      <td>0</td>\n",
       "      <td>0.25</td>\n",
       "      <td>0.571429</td>\n",
       "      <td>0.5</td>\n",
       "      <td>0.503017</td>\n",
       "      <td>0.004838</td>\n",
       "    </tr>\n",
       "    <tr>\n",
       "      <th>55752</th>\n",
       "      <td>1</td>\n",
       "      <td>1</td>\n",
       "      <td>0</td>\n",
       "      <td>1</td>\n",
       "      <td>0</td>\n",
       "      <td>0</td>\n",
       "      <td>0</td>\n",
       "      <td>1</td>\n",
       "      <td>0</td>\n",
       "      <td>0</td>\n",
       "      <td>...</td>\n",
       "      <td>0</td>\n",
       "      <td>0</td>\n",
       "      <td>0</td>\n",
       "      <td>0</td>\n",
       "      <td>0</td>\n",
       "      <td>0.50</td>\n",
       "      <td>0.571429</td>\n",
       "      <td>1.0</td>\n",
       "      <td>0.815688</td>\n",
       "      <td>0.016028</td>\n",
       "    </tr>\n",
       "    <tr>\n",
       "      <th>61495</th>\n",
       "      <td>1</td>\n",
       "      <td>1</td>\n",
       "      <td>1</td>\n",
       "      <td>1</td>\n",
       "      <td>0</td>\n",
       "      <td>0</td>\n",
       "      <td>0</td>\n",
       "      <td>1</td>\n",
       "      <td>0</td>\n",
       "      <td>0</td>\n",
       "      <td>...</td>\n",
       "      <td>0</td>\n",
       "      <td>0</td>\n",
       "      <td>0</td>\n",
       "      <td>0</td>\n",
       "      <td>0</td>\n",
       "      <td>0.25</td>\n",
       "      <td>0.285714</td>\n",
       "      <td>0.5</td>\n",
       "      <td>0.399342</td>\n",
       "      <td>0.016362</td>\n",
       "    </tr>\n",
       "    <tr>\n",
       "      <th>34391</th>\n",
       "      <td>1</td>\n",
       "      <td>1</td>\n",
       "      <td>1</td>\n",
       "      <td>1</td>\n",
       "      <td>0</td>\n",
       "      <td>0</td>\n",
       "      <td>0</td>\n",
       "      <td>1</td>\n",
       "      <td>0</td>\n",
       "      <td>0</td>\n",
       "      <td>...</td>\n",
       "      <td>0</td>\n",
       "      <td>0</td>\n",
       "      <td>0</td>\n",
       "      <td>0</td>\n",
       "      <td>0</td>\n",
       "      <td>0.25</td>\n",
       "      <td>0.285714</td>\n",
       "      <td>0.5</td>\n",
       "      <td>0.116292</td>\n",
       "      <td>0.000000</td>\n",
       "    </tr>\n",
       "    <tr>\n",
       "      <th>36619</th>\n",
       "      <td>1</td>\n",
       "      <td>1</td>\n",
       "      <td>1</td>\n",
       "      <td>1</td>\n",
       "      <td>0</td>\n",
       "      <td>0</td>\n",
       "      <td>0</td>\n",
       "      <td>1</td>\n",
       "      <td>0</td>\n",
       "      <td>0</td>\n",
       "      <td>...</td>\n",
       "      <td>0</td>\n",
       "      <td>0</td>\n",
       "      <td>0</td>\n",
       "      <td>0</td>\n",
       "      <td>0</td>\n",
       "      <td>0.25</td>\n",
       "      <td>0.285714</td>\n",
       "      <td>0.5</td>\n",
       "      <td>0.149205</td>\n",
       "      <td>0.000669</td>\n",
       "    </tr>\n",
       "  </tbody>\n",
       "</table>\n",
       "<p>5 rows × 52 columns</p>\n",
       "</div>"
      ],
      "text/plain": [
       "       mobile  social  web  bogo  discount  informational  F  M  O  age_10s  \\\n",
       "20034       1       0    1     1         0              0  0  1  0        0   \n",
       "55752       1       1    0     1         0              0  0  1  0        0   \n",
       "61495       1       1    1     1         0              0  0  1  0        0   \n",
       "34391       1       1    1     1         0              0  0  1  0        0   \n",
       "36619       1       1    1     1         0              0  0  1  0        0   \n",
       "\n",
       "           ...       income_80ths  income_90ths  income_100ths  income_110ths  \\\n",
       "20034      ...                  0             0              0              0   \n",
       "55752      ...                  0             0              0              0   \n",
       "61495      ...                  0             0              0              0   \n",
       "34391      ...                  0             0              0              0   \n",
       "36619      ...                  0             0              0              0   \n",
       "\n",
       "       income_120ths  difficulty  duration  reward  became_member_tenure  \\\n",
       "20034              0        0.25  0.571429     0.5              0.503017   \n",
       "55752              0        0.50  0.571429     1.0              0.815688   \n",
       "61495              0        0.25  0.285714     0.5              0.399342   \n",
       "34391              0        0.25  0.285714     0.5              0.116292   \n",
       "36619              0        0.25  0.285714     0.5              0.149205   \n",
       "\n",
       "       total_amount  \n",
       "20034      0.004838  \n",
       "55752      0.016028  \n",
       "61495      0.016362  \n",
       "34391      0.000000  \n",
       "36619      0.000669  \n",
       "\n",
       "[5 rows x 52 columns]"
      ]
     },
     "execution_count": 98,
     "metadata": {},
     "output_type": "execute_result"
    }
   ],
   "source": [
    "# Scale selected features in test data\n",
    "X_test_scaled = features_scale(X_test, feat=features_to_scale)\n",
    "X_test_scaled.head()"
   ]
  },
  {
   "cell_type": "code",
   "execution_count": 99,
   "metadata": {},
   "outputs": [
    {
     "data": {
      "text/plain": [
       "array([0, 1, 1, ..., 0, 0, 1])"
      ]
     },
     "execution_count": 99,
     "metadata": {},
     "output_type": "execute_result"
    }
   ],
   "source": [
    "# Classification of test data using best model trained on train data\n",
    "predictions = rfc_best_est.predict(X_test_scaled)\n",
    "predictions"
   ]
  },
  {
   "cell_type": "markdown",
   "metadata": {},
   "source": [
    "#### Confusion Matrix"
   ]
  },
  {
   "cell_type": "code",
   "execution_count": 100,
   "metadata": {},
   "outputs": [
    {
     "data": {
      "text/plain": [
       "array([[ 8115,  1024],\n",
       "       [  456, 10356]])"
      ]
     },
     "execution_count": 100,
     "metadata": {},
     "output_type": "execute_result"
    }
   ],
   "source": [
    "# Calculate confusion matrix\n",
    "confusion_matrix(y_test.squeeze().values, predictions)"
   ]
  },
  {
   "cell_type": "code",
   "execution_count": 101,
   "metadata": {},
   "outputs": [
    {
     "name": "stdout",
     "output_type": "stream",
     "text": [
      "true negatives: 8115\n",
      "false postives: 1024\n",
      "false negatives: 456\n",
      "true postives: 10356\n"
     ]
    }
   ],
   "source": [
    "# displaye tn, fp, fn, tp from confusion matrix\n",
    "tn, fp, fn, tp = confusion_matrix(y_test.squeeze().values, predictions).ravel()\n",
    "print('true negatives: {}'.format(tn))\n",
    "print('false postives: {}'.format(fp))\n",
    "print('false negatives: {}'.format(fn))\n",
    "print('true postives: {}'.format(tp))"
   ]
  },
  {
   "cell_type": "code",
   "execution_count": 102,
   "metadata": {},
   "outputs": [],
   "source": [
    "def plot_confusion_matrix(y_true, y_pred, classes,normalize=False,title=None,cmap=plt.cm.Greys):\n",
    "    \"\"\"\n",
    "    This function prints and plots the confusion matrix.\n",
    "    Normalization can be applied by setting `normalize=True`.\n",
    "    \n",
    "    INPUT:\n",
    "    - y_true (np.array): array containing true labels\n",
    "    - y_pred (np.array): array containing predicted labels\n",
    "    - normalize (boolean): boolean value to determine whether to normalize the confusion matrix or not\n",
    "    - title (str): title to use in confusion matrix plot\n",
    "            \n",
    "    OUTPUT:\n",
    "    - ax (Axes object): Axes object to plot confusion matrix plot\n",
    "    \"\"\"\n",
    "    if not title:\n",
    "        if normalize:\n",
    "            title = 'Normalized confusion matrix'\n",
    "        else:\n",
    "            title = 'Confusion matrix, without normalization'\n",
    "\n",
    "    # Compute confusion matrix\n",
    "    conf_matrix = confusion_matrix(y_true, y_pred)\n",
    "    # Only use the labels that appear in the data\n",
    "    classes = classes[unique_labels(y_true, y_pred)]\n",
    "    if normalize:\n",
    "        conf_matrix = conf_matrix.astype('float') / conf_matrix.sum(axis=1)[:, np.newaxis]\n",
    "        print(\"Normalized confusion matrix\")\n",
    "    else:\n",
    "        print('Confusion matrix, without normalization')\n",
    "\n",
    "    print(conf_matrix)\n",
    "\n",
    "    fig, ax = plt.subplots()\n",
    "    im = ax.imshow(conf_matrix, interpolation='nearest', cmap=cmap)\n",
    "    ax.figure.colorbar(im, ax=ax)\n",
    "    # We want to show all ticks...\n",
    "    ax.set(xticks=np.arange(conf_matrix.shape[1]),\n",
    "           yticks=np.arange(conf_matrix.shape[0]),\n",
    "           # ... and label them with the respective list entries\n",
    "           xticklabels=classes, yticklabels=classes,\n",
    "           title=title,\n",
    "           ylabel='True label',\n",
    "           xlabel='Predicted label')\n",
    "\n",
    "    # Rotate the tick labels and set their alignment.\n",
    "    plt.setp(ax.get_xticklabels(), rotation=0, ha=\"right\",rotation_mode=\"anchor\")\n",
    "\n",
    "    # Loop over data dimensions and create text annotations.\n",
    "    fmt = '.2f' if normalize else 'd'\n",
    "    thresh = conf_matrix.max() / 2.\n",
    "    for i in range(conf_matrix.shape[0]):\n",
    "        for j in range(conf_matrix.shape[1]):\n",
    "            ax.text(j, i, format(conf_matrix[i, j], fmt),\n",
    "                    ha=\"center\", va=\"center\",\n",
    "                    color=\"white\" if conf_matrix[i, j] > thresh else \"black\")\n",
    "    fig.tight_layout()\n",
    "    return ax"
   ]
  },
  {
   "cell_type": "code",
   "execution_count": 103,
   "metadata": {},
   "outputs": [
    {
     "name": "stdout",
     "output_type": "stream",
     "text": [
      "Confusion matrix, without normalization\n",
      "[[ 8115  1024]\n",
      " [  456 10356]]\n"
     ]
    },
    {
     "data": {
      "text/plain": [
       "<matplotlib.axes._subplots.AxesSubplot at 0x7fab703b3dd8>"
      ]
     },
     "execution_count": 103,
     "metadata": {},
     "output_type": "execute_result"
    },
    {
     "data": {
      "image/png": "[encoded data removed]",
      "text/plain": [
       "<matplotlib.figure.Figure at 0x7fab703a39e8>"
      ]
     },
     "metadata": {
      "needs_background": "light"
     },
     "output_type": "display_data"
    }
   ],
   "source": [
    "# Plot non-normalized confusion matrix\n",
    "np.set_printoptions(precision=2)\n",
    "class_names = np.array([0, 1])\n",
    "plot_confusion_matrix(y_test.squeeze().values, predictions, classes=class_names,title='non-normalized confusion matrix')"
   ]
  },
  {
   "cell_type": "code",
   "execution_count": 104,
   "metadata": {},
   "outputs": [
    {
     "name": "stdout",
     "output_type": "stream",
     "text": [
      "Normalized confusion matrix\n",
      "[[ 0.89  0.11]\n",
      " [ 0.04  0.96]]\n"
     ]
    },
    {
     "data": {
      "text/plain": [
       "<matplotlib.axes._subplots.AxesSubplot at 0x7fab703abe10>"
      ]
     },
     "execution_count": 104,
     "metadata": {},
     "output_type": "execute_result"
    },
    {
     "data": {
      "image/png": "[encoded data removed]",
      "text/plain": [
       "<matplotlib.figure.Figure at 0x7fab703371d0>"
      ]
     },
     "metadata": {
      "needs_background": "light"
     },
     "output_type": "display_data"
    }
   ],
   "source": [
    "# Plot normalized confusion matrix\n",
    "plot_confusion_matrix(y_test.squeeze().values, predictions, classes=class_names, normalize=True,title='confusion matrix')"
   ]
  },
  {
   "cell_type": "markdown",
   "metadata": {},
   "source": [
    "the results shows that there are 4% pourcentge misclassifying customer acceptance for an offer, and 11% misclassifying customer refusal for an offer. As, False Negatives is less than False positives, our predictive model is doing perfect as it has very low chances of missing an individual who would respond. \n",
    "\n",
    "\n",
    "As Starbucks would not like to miss sending offers to individuals who would respond, this model is suitable for this case, since it wouldn't miss sending offers to individuals who can respond. Also, Starbucks would not mind sending offers to few individuals who would not respond,as they have covered up all the individuals who would respond. Therefore, our predictive model would work fine in this case."
   ]
  },
  {
   "cell_type": "markdown",
   "metadata": {},
   "source": [
    "## Conclusion\n",
    "\n",
    "The problem that I chose to solve was to build a model that predicts whether a customer will respond to an offer. My strategy for solving this problem has mainly three steps. First, after preprocessing portfolio, profile and transaction datasets, I combined them to get a final clean data containing relevant features which can be used to train our model. Second, After splitting data to train and test datasets, we chose the best estimator \"RandomForestClassifier\" using GridSearch which is the best performing classifier algorithm among the above 4 classifiers tested (I compared F1-score and time taken). Third, I predited the test target using test data, and plot a confusion matrix to ensure the prformance of our model, we found that our predictive model is well suited for this case.\n",
    "\n",
    "I enjoyed working on this project which allowed me to work on a real-world project. The most interesting aspect of this project is that combination between different datasets, and using predictive modeling techniques and analysis to provide better decisions and value to the business. The wrangling step was the longest and most challenging part. The toughest part of this entire analysis was finding logic and strategy to make combined dataset, and deciding on the problem statement."
   ]
  },
  {
   "cell_type": "markdown",
   "metadata": {},
   "source": [
    "## Improvements\n",
    "\n",
    "1.Better predictions may have been deducted if there were more customer metrics. For this analysis, I feel we had limited information about customer available to us just age, gender, and income. To find optimal customer demographics, it would be nice to have a few more features of a customer. These additional features may aid in providing better classification model results data in order to have more better model.\n",
    "  \n",
    "2.Additionaly initially it seemed like we had a lot of data to work, but once NaN values and duplicate columns were dropped and the data were combined into one single dataset, it felt as though the models might have benefited from more data. With more data, the classification models may have been able to produce better F1-score results.\n",
    "   \n",
    "3.Also, we can improve this project by taking up another problem statement,we can make a model that predicts which demographic groups will make purchases even if they don't receive an offer.\n"
   ]
  }
 ],
 "metadata": {
  "kernelspec": {
   "display_name": "Python 3",
   "language": "python",
   "name": "python3"
  },
  "language_info": {
   "codemirror_mode": {
    "name": "ipython",
    "version": 3
   },
   "file_extension": ".py",
   "mimetype": "text/x-python",
   "name": "python",
   "nbconvert_exporter": "python",
   "pygments_lexer": "ipython3",
   "version": "3.7.3"
  }
 },
 "nbformat": 4,
 "nbformat_minor": 2
}
